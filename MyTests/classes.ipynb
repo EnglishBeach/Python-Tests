{
 "cells": [
  {
   "cell_type": "code",
   "execution_count": 1,
   "metadata": {},
   "outputs": [],
   "source": [
    "class Base:\n",
    "    def __init__(self,x):\n",
    "        self.__x = 99\n",
    "    def print(self):\n",
    "        return self.__x\n",
    "class Derived(Base):\n",
    "    def __init__(self,x):\n",
    "        super().__init__(x)\n",
    "        self.__x = x"
   ]
  },
  {
   "cell_type": "code",
   "execution_count": 2,
   "metadata": {},
   "outputs": [
    {
     "data": {
      "text/plain": [
       "99"
      ]
     },
     "execution_count": 2,
     "metadata": {},
     "output_type": "execute_result"
    }
   ],
   "source": [
    "b= Base(1)\n",
    "b.print()"
   ]
  },
  {
   "cell_type": "code",
   "execution_count": 3,
   "metadata": {},
   "outputs": [
    {
     "data": {
      "text/plain": [
       "99"
      ]
     },
     "execution_count": 3,
     "metadata": {},
     "output_type": "execute_result"
    }
   ],
   "source": [
    "d= Derived(4)\n",
    "d.print()"
   ]
  },
  {
   "cell_type": "code",
   "execution_count": 4,
   "metadata": {},
   "outputs": [],
   "source": [
    "def fo():..."
   ]
  },
  {
   "cell_type": "code",
   "execution_count": 5,
   "metadata": {},
   "outputs": [],
   "source": [
    "fo()"
   ]
  },
  {
   "cell_type": "code",
   "execution_count": 6,
   "metadata": {},
   "outputs": [
    {
     "data": {
      "text/plain": [
       "[[0], [1], [2]]"
      ]
     },
     "execution_count": 6,
     "metadata": {},
     "output_type": "execute_result"
    }
   ],
   "source": [
    "[[a] for a in range(3)]"
   ]
  },
  {
   "cell_type": "code",
   "execution_count": 7,
   "metadata": {},
   "outputs": [],
   "source": [
    "class Change:\n",
    "    const = 1\n",
    "\n",
    "    def __init__(self) -> None:\n",
    "        self.a = 2\n",
    "\n",
    "\n",
    "class Change2(Change):\n",
    "\n",
    "    def __init__(self) -> None:\n",
    "        self.b = 3\n",
    "        super().__init__()\n",
    "\n",
    "\n",
    "def p(c1, c2):\n",
    "    print(\n",
    "        '   c1:',\n",
    "        c1.const,\n",
    "        c1.a,\n",
    "        '   c2:',\n",
    "        c2.const,\n",
    "        c2.a,\n",
    "        c2.b,\n",
    "        '=' * 10,\n",
    "        sep='\\n',\n",
    "    )\n"
   ]
  },
  {
   "cell_type": "code",
   "execution_count": 8,
   "metadata": {},
   "outputs": [
    {
     "name": "stdout",
     "output_type": "stream",
     "text": [
      "   c1:\n",
      "1\n",
      "2\n",
      "   c2:\n",
      "1\n",
      "2\n",
      "3\n",
      "==========\n",
      "   c1:\n",
      "10\n",
      "2\n",
      "   c2:\n",
      "1\n",
      "11\n",
      "3\n",
      "==========\n",
      "   c1:\n",
      "100\n",
      "2\n",
      "   c2:\n",
      "100\n",
      "2\n",
      "3\n",
      "==========\n"
     ]
    }
   ],
   "source": [
    "c1 = Change()\n",
    "c2 = Change2()\n",
    "p(c1,c2)\n",
    "\n",
    "c1.const=10\n",
    "c2.a=11\n",
    "p(c1,c2)\n",
    "\n",
    "c1 = Change()\n",
    "c2 = Change2()\n",
    "Change.const=100\n",
    "p(c1,c2)"
   ]
  },
  {
   "cell_type": "code",
   "execution_count": 10,
   "metadata": {},
   "outputs": [
    {
     "data": {
      "text/plain": [
       "100"
      ]
     },
     "execution_count": 10,
     "metadata": {},
     "output_type": "execute_result"
    }
   ],
   "source": [
    "c3= Change2()\n",
    "c3.const"
   ]
  }
 ],
 "metadata": {
  "kernelspec": {
   "display_name": "Python 3.8.0 64-bit",
   "language": "python",
   "name": "python3"
  },
  "language_info": {
   "codemirror_mode": {
    "name": "ipython",
    "version": 3
   },
   "file_extension": ".py",
   "mimetype": "text/x-python",
   "name": "python",
   "nbconvert_exporter": "python",
   "pygments_lexer": "ipython3",
   "version": "3.8.0"
  },
  "orig_nbformat": 4,
  "vscode": {
   "interpreter": {
    "hash": "54f20e7e3e360f2961354ec07feee89ca859933b5816359cc03524f014ca106e"
   }
  }
 },
 "nbformat": 4,
 "nbformat_minor": 2
}
