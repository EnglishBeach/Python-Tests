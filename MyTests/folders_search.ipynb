{
 "cells": [
  {
   "cell_type": "code",
   "execution_count": null,
   "metadata": {},
   "outputs": [],
   "source": [
    "import os\n",
    "from tqdm import tqdm\n",
    "\n",
    "def folder_size(path='.'):\n",
    "    total = 0\n",
    "    for entry in os.scandir(path):\n",
    "        if entry.is_file():\n",
    "            total += entry.stat().st_size\n",
    "        elif entry.is_dir():\n",
    "            total += folder_size(entry.path)\n",
    "    return total\n",
    "\n",
    "\n",
    "def sort_dict(unsort_dict):\n",
    "    sorted_list = sorted(unsort_dict, key=unsort_dict.get)\n",
    "    return {key: unsort_dict[key] for key in sorted_list}\n",
    "\n",
    "\n",
    "def scan(path, degree=1):\n",
    "    result_dict = {}\n",
    "    points = tqdm(iterable=os.scandir(path),desc='Process')\n",
    "    for point in points:\n",
    "        if point.is_file():\n",
    "            size = round(point.stat().st_size / 1024**degree, 4)\n",
    "        else:\n",
    "            size = round(folder_size(point.path) / 1024**degree, 4)\n",
    "        result_dict.update({point.name: size})\n",
    "    return sort_dict(result_dict)"
   ]
  },
  {
   "cell_type": "code",
   "execution_count": 63,
   "metadata": {},
   "outputs": [
    {
     "name": "stderr",
     "output_type": "stream",
     "text": [
      "Process: 12it [01:34,  4.49s/it]"
     ]
    }
   ],
   "source": [
    "scan(r'D:\\Programs',degree=2)"
   ]
  },
  {
   "cell_type": "code",
   "execution_count": null,
   "metadata": {},
   "outputs": [],
   "source": [
    "1"
   ]
  }
 ],
 "metadata": {
  "kernelspec": {
   "display_name": "Python 3.8.0 64-bit",
   "language": "python",
   "name": "python3"
  },
  "language_info": {
   "codemirror_mode": {
    "name": "ipython",
    "version": 3
   },
   "file_extension": ".py",
   "mimetype": "text/x-python",
   "name": "python",
   "nbconvert_exporter": "python",
   "pygments_lexer": "ipython3",
   "version": "3.8.0"
  },
  "orig_nbformat": 4,
  "vscode": {
   "interpreter": {
    "hash": "9650cb4e16cdd4a8e8e2d128bf38d875813998db22a3c986335f89e0cb4d7bb2"
   }
  }
 },
 "nbformat": 4,
 "nbformat_minor": 2
}
