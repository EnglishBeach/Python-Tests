{
 "cells": [
  {
   "cell_type": "code",
   "execution_count": 1,
   "metadata": {},
   "outputs": [],
   "source": [
    "l = [1, 3, 4, 5, 6, -1, 0, 0]\n"
   ]
  },
  {
   "cell_type": "code",
   "execution_count": 2,
   "metadata": {},
   "outputs": [
    {
     "data": {
      "text/plain": [
       "[1, 3, 4, 5, 6, 0, 0, -1]"
      ]
     },
     "execution_count": 2,
     "metadata": {},
     "output_type": "execute_result"
    }
   ],
   "source": [
    "l.sort(key=lambda x: 0 if x // 10 == 0 else 1)\n",
    "l"
   ]
  },
  {
   "cell_type": "code",
   "execution_count": 3,
   "metadata": {},
   "outputs": [],
   "source": [
    "def move_zeros(lst):\n",
    "\n",
    "    return sorted(lst, key=lambda x: 0 if x == 0 else 1)\n"
   ]
  },
  {
   "cell_type": "code",
   "execution_count": 4,
   "metadata": {},
   "outputs": [
    {
     "name": "stdout",
     "output_type": "stream",
     "text": [
      "[0, 0, 1, 2, 7, 8, 6, 5, 2]\n"
     ]
    }
   ],
   "source": [
    "print(move_zeros([1, 2, 0, 7, 0, 8, 6, 5, 2]))"
   ]
  },
  {
   "cell_type": "code",
   "execution_count": 5,
   "metadata": {},
   "outputs": [
    {
     "data": {
      "text/plain": [
       "['(', '(', '(', '(', '(', '(', '(', '(', '(', ')', ')', ')', ')', ')']"
      ]
     },
     "execution_count": 5,
     "metadata": {},
     "output_type": "execute_result"
    }
   ],
   "source": [
    "str = list('((((((()))(())')\n",
    "str.sort()\n",
    "str"
   ]
  },
  {
   "cell_type": "code",
   "execution_count": 6,
   "metadata": {},
   "outputs": [],
   "source": [
    "def bracet(string):\n",
    "    sum = 0\n",
    "    if string[0] == ')': -99999\n",
    "    for i in string:\n",
    "        if i == '(': sum += 1\n",
    "        else: sum -= 1\n",
    "    return sum == 0"
   ]
  },
  {
   "cell_type": "code",
   "execution_count": 7,
   "metadata": {},
   "outputs": [
    {
     "data": {
      "text/plain": [
       "False"
      ]
     },
     "execution_count": 7,
     "metadata": {},
     "output_type": "execute_result"
    }
   ],
   "source": [
    "bracet(')(()())')"
   ]
  },
  {
   "cell_type": "code",
   "execution_count": 8,
   "metadata": {},
   "outputs": [
    {
     "data": {
      "text/plain": [
       "')'"
      ]
     },
     "execution_count": 8,
     "metadata": {},
     "output_type": "execute_result"
    }
   ],
   "source": [
    "s = '()()()()(()'\n",
    "s[-1]"
   ]
  },
  {
   "cell_type": "code",
   "execution_count": 9,
   "metadata": {},
   "outputs": [],
   "source": [
    "def valid_parentheses(string):\n",
    "    sum = 1\n",
    "    for i in string:\n",
    "        if i == '(': sum *= 2\n",
    "        elif i == ')': sum //= 2\n",
    "    return sum == 1"
   ]
  },
  {
   "cell_type": "code",
   "execution_count": 10,
   "metadata": {},
   "outputs": [
    {
     "data": {
      "text/plain": [
       "False"
      ]
     },
     "execution_count": 10,
     "metadata": {},
     "output_type": "execute_result"
    }
   ],
   "source": [
    "valid_parentheses('()(')"
   ]
  },
  {
   "cell_type": "code",
   "execution_count": 11,
   "metadata": {},
   "outputs": [
    {
     "data": {
      "text/plain": [
       "5"
      ]
     },
     "execution_count": 11,
     "metadata": {},
     "output_type": "execute_result"
    }
   ],
   "source": [
    "a = 5\n",
    "\n",
    "\n",
    "def func1():\n",
    "    return a\n",
    "\n",
    "\n",
    "func1()"
   ]
  },
  {
   "cell_type": "code",
   "execution_count": 12,
   "metadata": {},
   "outputs": [],
   "source": [
    "def func2():\n",
    "    b = 10\n",
    "\n",
    "    def subfunc():\n",
    "        nonlocal b\n",
    "        b += 1\n",
    "        return b\n",
    "\n",
    "    return subfunc"
   ]
  },
  {
   "cell_type": "code",
   "execution_count": 13,
   "metadata": {},
   "outputs": [
    {
     "data": {
      "text/plain": [
       "11"
      ]
     },
     "execution_count": 13,
     "metadata": {},
     "output_type": "execute_result"
    }
   ],
   "source": [
    "cal1 = func2()\n",
    "cal1()"
   ]
  },
  {
   "cell_type": "code",
   "execution_count": 14,
   "metadata": {},
   "outputs": [
    {
     "data": {
      "text/plain": [
       "11"
      ]
     },
     "execution_count": 14,
     "metadata": {},
     "output_type": "execute_result"
    }
   ],
   "source": [
    "cal2 = func2()\n",
    "cal2()"
   ]
  },
  {
   "cell_type": "code",
   "execution_count": 15,
   "metadata": {},
   "outputs": [],
   "source": [
    "def func3():\n",
    "    c = 50\n",
    "    n = 99\n",
    "\n",
    "    def subfunc():\n",
    "        global c\n",
    "        c += 1\n",
    "        return c\n",
    "\n",
    "    return subfunc"
   ]
  },
  {
   "cell_type": "code",
   "execution_count": 16,
   "metadata": {},
   "outputs": [
    {
     "data": {
      "text/plain": [
       "89"
      ]
     },
     "execution_count": 16,
     "metadata": {},
     "output_type": "execute_result"
    }
   ],
   "source": [
    "a = func3()\n",
    "c = 88\n",
    "a()"
   ]
  },
  {
   "cell_type": "code",
   "execution_count": 17,
   "metadata": {},
   "outputs": [],
   "source": [
    "class Node():\n",
    "    next = None\n",
    "\n",
    "def loop_size(node):\n",
    "    nodeset = set()\n",
    "    i = node\n",
    "    while i not in nodeset:\n",
    "        nodeset.add(i)\n",
    "        i = i.next\n",
    "    nodeset.clear()\n",
    "    while i not in nodeset:\n",
    "        nodeset.add(i)\n",
    "        i = i.next\n",
    "    return len(nodeset)"
   ]
  },
  {
   "cell_type": "code",
   "execution_count": 18,
   "metadata": {},
   "outputs": [],
   "source": [
    "a1 = Node()\n",
    "a2 = Node()\n",
    "a3 = Node()\n",
    "a4 = Node()\n",
    "a5 = Node()\n",
    "a6 = Node()\n",
    "\n",
    "a1.next = a2\n",
    "a2.next = a3\n",
    "\n",
    "a3.next = a4\n",
    "a4.next = a6\n",
    "a6.next = a5\n",
    "a5.next = a4"
   ]
  },
  {
   "cell_type": "code",
   "execution_count": 19,
   "metadata": {},
   "outputs": [
    {
     "data": {
      "text/plain": [
       "3"
      ]
     },
     "execution_count": 19,
     "metadata": {},
     "output_type": "execute_result"
    }
   ],
   "source": [
    "loop_size(a2)"
   ]
  },
  {
   "cell_type": "code",
   "execution_count": 20,
   "metadata": {},
   "outputs": [
    {
     "data": {
      "text/plain": [
       "1.5500000000000007"
      ]
     },
     "execution_count": 20,
     "metadata": {},
     "output_type": "execute_result"
    }
   ],
   "source": [
    "15.55%2"
   ]
  },
  {
   "cell_type": "code",
   "execution_count": 21,
   "metadata": {},
   "outputs": [],
   "source": [
    "def divisions(num):\n",
    "    sum([(num // i)**2 for i in range(1, num+1) if num % i == 0])\n",
    "    \n"
   ]
  },
  {
   "cell_type": "code",
   "execution_count": 22,
   "metadata": {},
   "outputs": [],
   "source": [
    "from math import sqrt\n",
    "\n",
    "\n",
    "def list_squared(m, n):\n",
    "    output = []\n",
    "    for num in range(m, n):\n",
    "        squresum = 0\n",
    "        for i in range(1, num + 1):\n",
    "            if num % i == 0: squresum += (num // i)**2\n",
    "        if float(sqrt(squresum)) % 1 == 0: output.append([num, squresum])\n",
    "    return output"
   ]
  },
  {
   "cell_type": "code",
   "execution_count": 23,
   "metadata": {},
   "outputs": [
    {
     "ename": "KeyboardInterrupt",
     "evalue": "",
     "output_type": "error",
     "traceback": [
      "\u001b[1;31m---------------------------------------------------------------------------\u001b[0m",
      "\u001b[1;31mKeyboardInterrupt\u001b[0m                         Traceback (most recent call last)",
      "\u001b[1;32md:\\WORKS\\Python-Tests\\MyTests\\Rgb test.ipynb Cell 23\u001b[0m in \u001b[0;36m<cell line: 1>\u001b[1;34m()\u001b[0m\n\u001b[1;32m----> <a href='vscode-notebook-cell:/d%3A/WORKS/Python-Tests/MyTests/Rgb%20test.ipynb#X44sZmlsZQ%3D%3D?line=0'>1</a>\u001b[0m list_squared(\u001b[39m1\u001b[39;49m,\u001b[39m1000000\u001b[39;49m)\n",
      "\u001b[1;32md:\\WORKS\\Python-Tests\\MyTests\\Rgb test.ipynb Cell 23\u001b[0m in \u001b[0;36mlist_squared\u001b[1;34m(m, n)\u001b[0m\n\u001b[0;32m      <a href='vscode-notebook-cell:/d%3A/WORKS/Python-Tests/MyTests/Rgb%20test.ipynb#X44sZmlsZQ%3D%3D?line=6'>7</a>\u001b[0m     squresum \u001b[39m=\u001b[39m \u001b[39m0\u001b[39m\n\u001b[0;32m      <a href='vscode-notebook-cell:/d%3A/WORKS/Python-Tests/MyTests/Rgb%20test.ipynb#X44sZmlsZQ%3D%3D?line=7'>8</a>\u001b[0m     \u001b[39mfor\u001b[39;00m i \u001b[39min\u001b[39;00m \u001b[39mrange\u001b[39m(\u001b[39m1\u001b[39m, num \u001b[39m+\u001b[39m \u001b[39m1\u001b[39m):\n\u001b[1;32m----> <a href='vscode-notebook-cell:/d%3A/WORKS/Python-Tests/MyTests/Rgb%20test.ipynb#X44sZmlsZQ%3D%3D?line=8'>9</a>\u001b[0m         \u001b[39mif\u001b[39;00m num \u001b[39m%\u001b[39;49m i \u001b[39m==\u001b[39m \u001b[39m0\u001b[39m: squresum \u001b[39m+\u001b[39m\u001b[39m=\u001b[39m (num \u001b[39m/\u001b[39m\u001b[39m/\u001b[39m i)\u001b[39m*\u001b[39m\u001b[39m*\u001b[39m\u001b[39m2\u001b[39m\n\u001b[0;32m     <a href='vscode-notebook-cell:/d%3A/WORKS/Python-Tests/MyTests/Rgb%20test.ipynb#X44sZmlsZQ%3D%3D?line=9'>10</a>\u001b[0m     \u001b[39mif\u001b[39;00m \u001b[39mfloat\u001b[39m(sqrt(squresum)) \u001b[39m%\u001b[39m \u001b[39m1\u001b[39m \u001b[39m==\u001b[39m \u001b[39m0\u001b[39m: output\u001b[39m.\u001b[39mappend([num, squresum])\n\u001b[0;32m     <a href='vscode-notebook-cell:/d%3A/WORKS/Python-Tests/MyTests/Rgb%20test.ipynb#X44sZmlsZQ%3D%3D?line=10'>11</a>\u001b[0m \u001b[39mreturn\u001b[39;00m output\n",
      "\u001b[1;31mKeyboardInterrupt\u001b[0m: "
     ]
    }
   ],
   "source": [
    "list_squared(1,1000000)"
   ]
  }
 ],
 "metadata": {
  "kernelspec": {
   "display_name": "Python 3.8.0 64-bit",
   "language": "python",
   "name": "python3"
  },
  "language_info": {
   "codemirror_mode": {
    "name": "ipython",
    "version": 3
   },
   "file_extension": ".py",
   "mimetype": "text/x-python",
   "name": "python",
   "nbconvert_exporter": "python",
   "pygments_lexer": "ipython3",
   "version": "3.8.0"
  },
  "orig_nbformat": 4,
  "vscode": {
   "interpreter": {
    "hash": "9650cb4e16cdd4a8e8e2d128bf38d875813998db22a3c986335f89e0cb4d7bb2"
   }
  }
 },
 "nbformat": 4,
 "nbformat_minor": 2
}
