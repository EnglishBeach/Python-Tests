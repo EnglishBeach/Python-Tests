{
 "cells": [
  {
   "cell_type": "markdown",
   "metadata": {},
   "source": [
    "# MRO"
   ]
  },
  {
   "cell_type": "code",
   "execution_count": 1,
   "metadata": {},
   "outputs": [],
   "source": [
    "def print_mro(T):\n",
    "    print(*[c.__name__ for c in T.mro()], sep=' -> ')"
   ]
  },
  {
   "cell_type": "code",
   "execution_count": 8,
   "metadata": {},
   "outputs": [],
   "source": [
    "class O: ...\n",
    "\n",
    "class O1(O): ...\n",
    "class O2(O): ...\n",
    "class A(O1): ...\n",
    "class B(O1):...\n",
    "class C(O2):...\n",
    "\n",
    "class D(A,B):...\n",
    "class E(B,C):...\n",
    "\n",
    "class Z(D,E):...\n"
   ]
  },
  {
   "cell_type": "code",
   "execution_count": 3,
   "metadata": {},
   "outputs": [
    {
     "name": "stdout",
     "output_type": "stream",
     "text": [
      "Z -> D -> A -> E -> B -> O1 -> C -> O2 -> O -> object\n"
     ]
    }
   ],
   "source": [
    "print_mro(Z)"
   ]
  },
  {
   "cell_type": "code",
   "execution_count": 40,
   "metadata": {},
   "outputs": [],
   "source": [
    "class T1:\n",
    "    c1=10\n",
    "    \n",
    "    def __init__(self) -> None:\n",
    "        self.s1=99\n",
    "        \n",
    "        \n",
    "class T2(T1):\n",
    "    def help(self):\n",
    "        print('Helping')\n",
    "    \n",
    "    def pr_super(self):\n",
    "        return super()\n",
    "\n",
    "T3 = T2\n",
    "setattr(T3,'g',1)\n",
    "def _help(self):\n",
    "    print('type helping')\n",
    "c= 2    \n",
    "T4 = type('T4',(T1,),{'help':_help,'f3':2})"
   ]
  },
  {
   "cell_type": "code",
   "execution_count": 41,
   "metadata": {},
   "outputs": [
    {
     "data": {
      "text/plain": [
       "2"
      ]
     },
     "execution_count": 41,
     "metadata": {},
     "output_type": "execute_result"
    }
   ],
   "source": [
    "test = T4()\n",
    "test.f3"
   ]
  },
  {
   "cell_type": "code",
   "execution_count": 43,
   "metadata": {},
   "outputs": [
    {
     "name": "stdout",
     "output_type": "stream",
     "text": [
      "type helping\n"
     ]
    }
   ],
   "source": [
    "test.help()"
   ]
  },
  {
   "cell_type": "code",
   "execution_count": 28,
   "metadata": {},
   "outputs": [
    {
     "name": "stdout",
     "output_type": "stream",
     "text": [
      "T2 -> T1 -> object\n",
      "<__main__.T2 object at 0x00000286D90C1610>\n",
      "<class '__main__.T2'>\n",
      "<class 'type'>\n"
     ]
    }
   ],
   "source": [
    "print_mro(T2)\n",
    "print(\n",
    "    T2(),\n",
    "    T3,\n",
    "    type(T2),\n",
    "    sep='\\n'\n",
    ")"
   ]
  },
  {
   "cell_type": "code",
   "execution_count": 47,
   "metadata": {},
   "outputs": [
    {
     "name": "stdout",
     "output_type": "stream",
     "text": [
      "<class '__main__.T4'>\n",
      "<class 'type'>\n",
      "<class 'type'>\n",
      "<class 'type'>\n"
     ]
    }
   ],
   "source": [
    "print(\n",
    "    test.__class__,\n",
    "    test.__class__.__class__,\n",
    "    T2.__class__,\n",
    "    T2.__class__.__class__,\n",
    "    \n",
    "    sep='\\n'\n",
    ")"
   ]
  },
  {
   "cell_type": "markdown",
   "metadata": {},
   "source": [
    "# META"
   ]
  },
  {
   "cell_type": "code",
   "execution_count": 69,
   "metadata": {},
   "outputs": [],
   "source": [
    "class Meta1(type):\n",
    "    def __new__(cls,clsname,superclasses,attrs):\n",
    "        print(\n",
    "            clsname,\n",
    "            superclasses,\n",
    "            attrs,\n",
    "            sep='\\n'\n",
    "        )\n",
    "        return type(clsname,superclasses,attrs)"
   ]
  },
  {
   "cell_type": "code",
   "execution_count": 70,
   "metadata": {},
   "outputs": [
    {
     "name": "stdout",
     "output_type": "stream",
     "text": [
      "base\n",
      "(<class '__main__.sub'>,)\n",
      "{'__module__': '__main__', '__qualname__': 'base'}\n"
     ]
    }
   ],
   "source": [
    "class sub:...\n",
    "class base(sub,metaclass=Meta1):..."
   ]
  },
  {
   "cell_type": "code",
   "execution_count": 61,
   "metadata": {},
   "outputs": [],
   "source": [
    "def toup(class_name: str, class_parents: str, classattrs: dict):\n",
    "\n",
    "    new_attrs = {\n",
    "        key.upper(): value\n",
    "        for key,value in classattrs.items()\n",
    "        if not key.startswith('__')\n",
    "    }\n",
    "\n",
    "    return type(class_name, class_parents, new_attrs)"
   ]
  },
  {
   "cell_type": "code",
   "execution_count": 67,
   "metadata": {},
   "outputs": [
    {
     "name": "stdout",
     "output_type": "stream",
     "text": [
      "2778167399920\n"
     ]
    }
   ],
   "source": [
    "class New_test():\n",
    "\n",
    "    f=1\n",
    "    def __init__(self) -> None:\n",
    "        self.a=1\n",
    "    \n",
    "    def print(self):\n",
    "        print(f'Parametr= {self.a}')\n",
    "        \n",
    "print(id(New_test))"
   ]
  },
  {
   "cell_type": "code",
   "execution_count": 66,
   "metadata": {},
   "outputs": [
    {
     "name": "stdout",
     "output_type": "stream",
     "text": [
      "Parametr= 1\n"
     ]
    }
   ],
   "source": [
    "test=New_test()\n",
    "test.print()"
   ]
  },
  {
   "cell_type": "markdown",
   "metadata": {},
   "source": [
    "# Uncorrect"
   ]
  },
  {
   "cell_type": "code",
   "execution_count": 4,
   "metadata": {},
   "outputs": [
    {
     "ename": "TypeError",
     "evalue": "Cannot create a consistent method resolution\norder (MRO) for bases X, Y",
     "output_type": "error",
     "traceback": [
      "\u001b[1;31m---------------------------------------------------------------------------\u001b[0m",
      "\u001b[1;31mTypeError\u001b[0m                                 Traceback (most recent call last)",
      "\u001b[1;32md:\\Works\\Python Tests\\MyTests\\mro.ipynb Cell 4\u001b[0m in \u001b[0;36m<cell line: 7>\u001b[1;34m()\u001b[0m\n\u001b[0;32m      <a href='vscode-notebook-cell:/d%3A/Works/Python%20Tests/MyTests/mro.ipynb#W3sZmlsZQ%3D%3D?line=3'>4</a>\u001b[0m \u001b[39mclass\u001b[39;00m \u001b[39mA\u001b[39;00m(X,Y):\u001b[39m.\u001b[39m\u001b[39m.\u001b[39m\u001b[39m.\u001b[39m\n\u001b[0;32m      <a href='vscode-notebook-cell:/d%3A/Works/Python%20Tests/MyTests/mro.ipynb#W3sZmlsZQ%3D%3D?line=4'>5</a>\u001b[0m \u001b[39mclass\u001b[39;00m \u001b[39mB\u001b[39;00m(Y,X):\u001b[39m.\u001b[39m\u001b[39m.\u001b[39m\u001b[39m.\u001b[39m\n\u001b[1;32m----> <a href='vscode-notebook-cell:/d%3A/Works/Python%20Tests/MyTests/mro.ipynb#W3sZmlsZQ%3D%3D?line=6'>7</a>\u001b[0m \u001b[39mclass\u001b[39;00m \u001b[39mZ\u001b[39;00m(A,B):\u001b[39m.\u001b[39m\u001b[39m.\u001b[39m\u001b[39m.\u001b[39m\n",
      "\u001b[1;31mTypeError\u001b[0m: Cannot create a consistent method resolution\norder (MRO) for bases X, Y"
     ]
    }
   ],
   "source": [
    "class X:...\n",
    "class Y:...\n",
    "\n",
    "class A(X,Y):...\n",
    "class B(Y,X):...\n",
    "\n",
    "class Z(A,B):..."
   ]
  },
  {
   "cell_type": "code",
   "execution_count": 5,
   "metadata": {},
   "outputs": [
    {
     "ename": "TypeError",
     "evalue": "Cannot create a consistent method resolution\norder (MRO) for bases X, Y",
     "output_type": "error",
     "traceback": [
      "\u001b[1;31m---------------------------------------------------------------------------\u001b[0m",
      "\u001b[1;31mTypeError\u001b[0m                                 Traceback (most recent call last)",
      "\u001b[1;32md:\\Works\\Python Tests\\MyTests\\mro.ipynb Cell 5\u001b[0m in \u001b[0;36m<cell line: 3>\u001b[1;34m()\u001b[0m\n\u001b[0;32m      <a href='vscode-notebook-cell:/d%3A/Works/Python%20Tests/MyTests/mro.ipynb#W4sZmlsZQ%3D%3D?line=0'>1</a>\u001b[0m \u001b[39mclass\u001b[39;00m \u001b[39mX\u001b[39;00m: \u001b[39m.\u001b[39m\u001b[39m.\u001b[39m\u001b[39m.\u001b[39m\n\u001b[0;32m      <a href='vscode-notebook-cell:/d%3A/Works/Python%20Tests/MyTests/mro.ipynb#W4sZmlsZQ%3D%3D?line=1'>2</a>\u001b[0m \u001b[39mclass\u001b[39;00m \u001b[39mY\u001b[39;00m(X): \u001b[39m.\u001b[39m\u001b[39m.\u001b[39m\u001b[39m.\u001b[39m\n\u001b[1;32m----> <a href='vscode-notebook-cell:/d%3A/Works/Python%20Tests/MyTests/mro.ipynb#W4sZmlsZQ%3D%3D?line=2'>3</a>\u001b[0m \u001b[39mclass\u001b[39;00m \u001b[39mA\u001b[39;00m(X, Y): \u001b[39m.\u001b[39m\u001b[39m.\u001b[39m\u001b[39m.\u001b[39m\n",
      "\u001b[1;31mTypeError\u001b[0m: Cannot create a consistent method resolution\norder (MRO) for bases X, Y"
     ]
    }
   ],
   "source": [
    "class X: ...\n",
    "class Y(X): ...\n",
    "class A(X, Y): ..."
   ]
  },
  {
   "cell_type": "code",
   "execution_count": 7,
   "metadata": {},
   "outputs": [
    {
     "data": {
      "text/plain": [
       "type"
      ]
     },
     "execution_count": 7,
     "metadata": {},
     "output_type": "execute_result"
    }
   ],
   "source": []
  }
 ],
 "metadata": {
  "kernelspec": {
   "display_name": "Python 3.8.0 64-bit",
   "language": "python",
   "name": "python3"
  },
  "language_info": {
   "codemirror_mode": {
    "name": "ipython",
    "version": 3
   },
   "file_extension": ".py",
   "mimetype": "text/x-python",
   "name": "python",
   "nbconvert_exporter": "python",
   "pygments_lexer": "ipython3",
   "version": "3.8.0"
  },
  "orig_nbformat": 4,
  "vscode": {
   "interpreter": {
    "hash": "54f20e7e3e360f2961354ec07feee89ca859933b5816359cc03524f014ca106e"
   }
  }
 },
 "nbformat": 4,
 "nbformat_minor": 2
}
