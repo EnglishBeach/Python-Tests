{
 "cells": [
  {
   "cell_type": "code",
   "execution_count": 1,
   "metadata": {},
   "outputs": [],
   "source": [
    "import numpy as np"
   ]
  },
  {
   "cell_type": "code",
   "execution_count": 29,
   "metadata": {},
   "outputs": [
    {
     "data": {
      "text/plain": [
       "array([[ 0, 11],\n",
       "       [ 1, 12],\n",
       "       [ 2, 13],\n",
       "       [ 3, 14],\n",
       "       [ 4, 15],\n",
       "       [ 5, 16],\n",
       "       [ 6, 17],\n",
       "       [ 7, 18],\n",
       "       [ 8, 19]])"
      ]
     },
     "execution_count": 29,
     "metadata": {},
     "output_type": "execute_result"
    }
   ],
   "source": [
    "a = np.array([11, 12, 13, 14, 15, 16, 17, 18, 19])\n",
    "a_pos = np.arange(len(a))\n",
    "need_pos = [1, 3, 5, 6]\n",
    "a_general = np.vstack((\n",
    "    a_pos,\n",
    "    a,\n",
    "    ))\n",
    "a_general = a_general.T\n",
    "a_general"
   ]
  },
  {
   "cell_type": "code",
   "execution_count": 32,
   "metadata": {},
   "outputs": [
    {
     "data": {
      "text/plain": [
       "array([12, 14, 16, 17])"
      ]
     },
     "execution_count": 32,
     "metadata": {},
     "output_type": "execute_result"
    }
   ],
   "source": [
    "a_general[need_pos][:,1]"
   ]
  }
 ],
 "metadata": {
  "kernelspec": {
   "display_name": "Python 3.8.0 64-bit",
   "language": "python",
   "name": "python3"
  },
  "language_info": {
   "codemirror_mode": {
    "name": "ipython",
    "version": 3
   },
   "file_extension": ".py",
   "mimetype": "text/x-python",
   "name": "python",
   "nbconvert_exporter": "python",
   "pygments_lexer": "ipython3",
   "version": "3.8.0"
  },
  "orig_nbformat": 4,
  "vscode": {
   "interpreter": {
    "hash": "54f20e7e3e360f2961354ec07feee89ca859933b5816359cc03524f014ca106e"
   }
  }
 },
 "nbformat": 4,
 "nbformat_minor": 2
}
