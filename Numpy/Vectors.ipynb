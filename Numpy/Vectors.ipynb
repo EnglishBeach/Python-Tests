{
 "cells": [
  {
   "cell_type": "code",
   "execution_count": 1,
   "metadata": {},
   "outputs": [],
   "source": [
    "import numpy as np\n",
    "import sympy as sm"
   ]
  },
  {
   "cell_type": "code",
   "execution_count": 2,
   "metadata": {},
   "outputs": [],
   "source": [
    "class Infix:\n",
    "    def __init__(self, function):\n",
    "        self.function = function\n",
    "    def __ror__(self, other):\n",
    "        return Infix(lambda x, self=self, other=other: self.function(other, x))\n",
    "    def __or__(self, other):\n",
    "        return self.function(other)\n",
    "    # def __rlshift__(self, other):\n",
    "    #     return Infix(lambda x, self=self, other=other: self.function(other, x))\n",
    "    # def __rshift__(self, other):\n",
    "    #     return self.function(other)\n",
    "    def __call__(self, value1, value2):\n",
    "        return self.function(value1, value2)"
   ]
  },
  {
   "cell_type": "code",
   "execution_count": 3,
   "metadata": {},
   "outputs": [],
   "source": [
    "def err(f):\n",
    "    def dec(*args):\n",
    "        try:\n",
    "            a = f(args)\n",
    "        except: print('error')\n",
    "        else: \n",
    "            print('OK')\n",
    "            return a\n",
    "        finally: print('Finale')\n",
    "        \n",
    "    return dec\n",
    "    "
   ]
  },
  {
   "cell_type": "code",
   "execution_count": 4,
   "metadata": {},
   "outputs": [
    {
     "name": "stdout",
     "output_type": "stream",
     "text": [
      "[1. 2. 3.]\n",
      "[[1. 2. 3.]]\n",
      "[[1.]\n",
      " [2.]\n",
      " [3.]]\n"
     ]
    }
   ],
   "source": [
    "a_m = np.array(\n",
    "    [[ 0.0,  1.0,  2.0],\n",
    "    [10.0, 11.0, 12.0],\n",
    "    [20.0, 21.0, 22.0],\n",
    "    [30.0, 31.0, 32.0]]\n",
    "    )\n",
    "b_v = np.array([1.0, 2.0, 3.0])\n",
    "print(b_v)\n",
    "c_m = b_v.copy()\n",
    "c_m=c_m[None,:]\n",
    "print(c_m)\n",
    "d_m = b_v.copy()\n",
    "d_m = d_m[:,None]\n",
    "print(d_m)"
   ]
  },
  {
   "cell_type": "code",
   "execution_count": 18,
   "metadata": {},
   "outputs": [],
   "source": [
    "x,y,z,w,a,b,c,d,f,g = sm.symbols('x y z w a b c d f g')"
   ]
  },
  {
   "cell_type": "code",
   "execution_count": 55,
   "metadata": {},
   "outputs": [
    {
     "name": "stdout",
     "output_type": "stream",
     "text": [
      "(2, 2) (2,) (2,) (2, 1)\n",
      "[[a b]\n",
      " [c d]] \n",
      "[x y] \n",
      "[z w] \n",
      "[[x]\n",
      " [y]] \n",
      "[[z w]]\n"
     ]
    }
   ],
   "source": [
    "A1 = np.array([[a, b], [c, d]])\n",
    "b1 = np.array([x, y])\n",
    "b2 = np.array([z, w])\n",
    "c1 = np.array([[x], [y]])\n",
    "c2 = np.array([[z, w]])\n",
    "print(A1.shape, b1.shape, b1.T.shape, c1.shape)\n",
    "print(f'{A1} \\n{b1} \\n{b2} \\n{c1} \\n{c2}')\n"
   ]
  },
  {
   "cell_type": "code",
   "execution_count": 45,
   "metadata": {},
   "outputs": [
    {
     "name": "stdout",
     "output_type": "stream",
     "text": [
      "[a*x + b*y c*x + d*y] \n",
      "[a*x + c*y b*x + d*y] \n",
      "[[a*x b*y]\n",
      " [c*x d*y]] \n",
      " [[a*x b*y]\n",
      " [c*x d*y]]\n"
     ]
    }
   ],
   "source": [
    "print(f'{A1@b1} \\n{b1@A1} \\n{A1*b1} \\n {b1*A1}')"
   ]
  },
  {
   "cell_type": "code",
   "execution_count": 46,
   "metadata": {},
   "outputs": [
    {
     "name": "stdout",
     "output_type": "stream",
     "text": [
      "w*y + x*z \n",
      " w*y + x*z\n"
     ]
    }
   ],
   "source": [
    "print(f'{b1@b2} \\n {b2@b1}')"
   ]
  },
  {
   "cell_type": "code",
   "execution_count": 56,
   "metadata": {},
   "outputs": [
    {
     "name": "stdout",
     "output_type": "stream",
     "text": [
      "[[x y]] \n",
      "[[z w]]\n"
     ]
    }
   ],
   "source": [
    "print(f'{c1.T} \\n{c2}')"
   ]
  },
  {
   "cell_type": "code",
   "execution_count": 47,
   "metadata": {},
   "outputs": [
    {
     "name": "stdout",
     "output_type": "stream",
     "text": [
      " [[x*z w*x]\n",
      " [y*z w*y]] \n",
      "[[x*z w*x]\n",
      " [y*z w*y]] \n",
      "[w*y + x*z] \n",
      " c1@b2 - error \n"
     ]
    }
   ],
   "source": [
    "print( f' {b2*c1} \\n{c1*b2} \\n{b2@c1} \\n c1@b2 - error ')"
   ]
  },
  {
   "cell_type": "code",
   "execution_count": 59,
   "metadata": {},
   "outputs": [
    {
     "name": "stdout",
     "output_type": "stream",
     "text": [
      " [[x*z w*y]] \n",
      "[[x*z w*y]] \n",
      "[w*y + x*z] \n",
      " b1@c2 - error \n"
     ]
    }
   ],
   "source": [
    "print( f' {b1*c2} \\n{c2*b1} \\n{c2@b1} \\n b1@c2 - error ')"
   ]
  },
  {
   "cell_type": "code",
   "execution_count": 60,
   "metadata": {},
   "outputs": [
    {
     "name": "stdout",
     "output_type": "stream",
     "text": [
      " [w*y + x*z] \n",
      "[w*y + x*z]\n"
     ]
    }
   ],
   "source": [
    "print( f' {c1.T@b2} \\n{b1@c2.T}')"
   ]
  }
 ],
 "metadata": {
  "kernelspec": {
   "display_name": "Python 3.8.0 64-bit",
   "language": "python",
   "name": "python3"
  },
  "language_info": {
   "codemirror_mode": {
    "name": "ipython",
    "version": 3
   },
   "file_extension": ".py",
   "mimetype": "text/x-python",
   "name": "python",
   "nbconvert_exporter": "python",
   "pygments_lexer": "ipython3",
   "version": "3.8.0"
  },
  "orig_nbformat": 4,
  "vscode": {
   "interpreter": {
    "hash": "54f20e7e3e360f2961354ec07feee89ca859933b5816359cc03524f014ca106e"
   }
  }
 },
 "nbformat": 4,
 "nbformat_minor": 2
}
