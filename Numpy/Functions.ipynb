{
 "cells": [
  {
   "cell_type": "code",
   "execution_count": 1,
   "metadata": {},
   "outputs": [],
   "source": [
    "import numpy as np"
   ]
  },
  {
   "cell_type": "code",
   "execution_count": 111,
   "metadata": {},
   "outputs": [],
   "source": [
    "a = np.arange(0, 10)\n",
    "b = np.arange(0,20).reshape(2,10)\n",
    "c=np.arange(0,10)[None,:]"
   ]
  },
  {
   "cell_type": "code",
   "execution_count": 108,
   "metadata": {},
   "outputs": [
    {
     "name": "stdout",
     "output_type": "stream",
     "text": [
      "[0 1 2 3 4 5 6 7 8 9] \n",
      " ********* \n",
      " 0\n"
     ]
    }
   ],
   "source": [
    "func = lambda x:  np.where(x[0] >5 , x[0]*10,0)\n",
    "print(\n",
    "    f'{a} \\n ********* \\n {func(a)}'\n",
    ")"
   ]
  },
  {
   "cell_type": "code",
   "execution_count": 104,
   "metadata": {},
   "outputs": [
    {
     "name": "stdout",
     "output_type": "stream",
     "text": [
      "[0 1 2 3 4 5 6 7 8 9] (array([6, 7, 8, 9], dtype=int64),)\n"
     ]
    }
   ],
   "source": [
    "func2 = lambda x: np.where(x>5)\n",
    "print(\n",
    "    f'{a} \\n ********* \\n {func2(a)}'\n",
    ")"
   ]
  },
  {
   "cell_type": "code",
   "execution_count": 112,
   "metadata": {},
   "outputs": [
    {
     "name": "stdout",
     "output_type": "stream",
     "text": [
      "[[0 1 2 3 4 5 6 7 8 9]] \n",
      " ********* \n",
      " [ 0  0  0  0  0  0 60 70 80 90]\n"
     ]
    }
   ],
   "source": [
    "func = lambda x:  np.where(x[0] >5 , x[0]*10,0)\n",
    "print(\n",
    "    f'{c} \\n ********* \\n {func(c)}'\n",
    ")"
   ]
  }
 ],
 "metadata": {
  "kernelspec": {
   "display_name": "Python 3.8.0 64-bit",
   "language": "python",
   "name": "python3"
  },
  "language_info": {
   "codemirror_mode": {
    "name": "ipython",
    "version": 3
   },
   "file_extension": ".py",
   "mimetype": "text/x-python",
   "name": "python",
   "nbconvert_exporter": "python",
   "pygments_lexer": "ipython3",
   "version": "3.8.0"
  },
  "orig_nbformat": 4,
  "vscode": {
   "interpreter": {
    "hash": "54f20e7e3e360f2961354ec07feee89ca859933b5816359cc03524f014ca106e"
   }
  }
 },
 "nbformat": 4,
 "nbformat_minor": 2
}
