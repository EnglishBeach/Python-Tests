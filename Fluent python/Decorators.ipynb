{
 "cells": [
  {
   "cell_type": "code",
   "execution_count": 1,
   "metadata": {},
   "outputs": [],
   "source": [
    "def decorator(func):\n",
    "    def inner():\n",
    "        print('running inner()')\n",
    "        func()\n",
    "    return inner\n",
    "\n",
    "def my_func():\n",
    "    print('running my_func()')\n",
    "    \n",
    "@decorator\n",
    "def my_func2():\n",
    "    print('running my_func()')"
   ]
  },
  {
   "cell_type": "code",
   "execution_count": 2,
   "metadata": {},
   "outputs": [
    {
     "name": "stdout",
     "output_type": "stream",
     "text": [
      "running my_func()\n"
     ]
    }
   ],
   "source": [
    "my_func()"
   ]
  },
  {
   "cell_type": "code",
   "execution_count": 3,
   "metadata": {},
   "outputs": [],
   "source": [
    "my_func = decorator(my_func)"
   ]
  },
  {
   "cell_type": "code",
   "execution_count": 4,
   "metadata": {},
   "outputs": [
    {
     "name": "stdout",
     "output_type": "stream",
     "text": [
      "running inner()\n",
      "running my_func()\n"
     ]
    }
   ],
   "source": [
    "my_func()"
   ]
  },
  {
   "cell_type": "code",
   "execution_count": 5,
   "metadata": {},
   "outputs": [
    {
     "name": "stdout",
     "output_type": "stream",
     "text": [
      "running inner()\n",
      "running my_func()\n"
     ]
    }
   ],
   "source": [
    "my_func2()"
   ]
  },
  {
   "cell_type": "code",
   "execution_count": 1,
   "metadata": {},
   "outputs": [],
   "source": [
    "reg_list = set()\n",
    "\n",
    "\n",
    "def decorate(func):\n",
    "    global reg_list\n",
    "    reg_list.add(func)\n",
    "    return func\n",
    "\n",
    "# @decorate\n",
    "# def f1():\n",
    "#     print('f1')\n",
    "\n",
    "\n",
    "# def f2():\n",
    "#     print('f2')\n",
    "\n",
    "\n",
    "# def f3():\n",
    "#     print('f3')"
   ]
  },
  {
   "cell_type": "code",
   "execution_count": 9,
   "metadata": {},
   "outputs": [
    {
     "name": "stdout",
     "output_type": "stream",
     "text": [
      "{<function f1 at 0x00000180F7CECB80>, <function f3 at 0x00000180F7CECDC0>}\n",
      "f1\n",
      "f2\n",
      "f3\n"
     ]
    }
   ],
   "source": [
    "reg_list = set()\n",
    "\n",
    "\n",
    "def factory_decors(param=True):\n",
    "    def correct_decorate(func):\n",
    "        global reg_list\n",
    "        if param: reg_list.add(func)\n",
    "        return func\n",
    "    return correct_decorate\n",
    "\n",
    "@factory_decors()\n",
    "def f1():\n",
    "    print('f1')\n",
    "\n",
    "@factory_decors(False)\n",
    "def f2():\n",
    "    print('f2')\n",
    "\n",
    "@factory_decors()\n",
    "def f3():\n",
    "    print('f3')\n",
    "    \n",
    "    \n",
    "print(reg_list)\n",
    "f1()\n",
    "f2()\n",
    "f3()"
   ]
  },
  {
   "cell_type": "code",
   "execution_count": 6,
   "metadata": {},
   "outputs": [
    {
     "name": "stdout",
     "output_type": "stream",
     "text": [
      "{1, 3}\n",
      "{1, 2, 3}\n"
     ]
    }
   ],
   "source": [
    "a ={1,3}\n",
    "a.discard(2)\n",
    "print(a)\n",
    "a.add(2)\n",
    "print(a)"
   ]
  }
 ],
 "metadata": {
  "kernelspec": {
   "display_name": "Python 3.8.0 64-bit",
   "language": "python",
   "name": "python3"
  },
  "language_info": {
   "codemirror_mode": {
    "name": "ipython",
    "version": 3
   },
   "file_extension": ".py",
   "mimetype": "text/x-python",
   "name": "python",
   "nbconvert_exporter": "python",
   "pygments_lexer": "ipython3",
   "version": "3.8.0"
  },
  "orig_nbformat": 4,
  "vscode": {
   "interpreter": {
    "hash": "54f20e7e3e360f2961354ec07feee89ca859933b5816359cc03524f014ca106e"
   }
  }
 },
 "nbformat": 4,
 "nbformat_minor": 2
}
