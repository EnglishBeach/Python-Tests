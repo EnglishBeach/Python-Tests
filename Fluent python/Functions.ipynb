{
 "cells": [
  {
   "cell_type": "code",
   "execution_count": 1,
   "metadata": {},
   "outputs": [],
   "source": [
    "def func(a,/,c,*d,e,**f):\n",
    "    print({'a':a,'c':c,'d':d,'e':e,'f':f})\n",
    "    \n",
    "def func1(a,b=8,**g):\n",
    "    return 5*a*b"
   ]
  },
  {
   "cell_type": "code",
   "execution_count": 2,
   "metadata": {},
   "outputs": [
    {
     "name": "stdout",
     "output_type": "stream",
     "text": [
      "{'a': 1, 'c': 2, 'd': (4, 5, 6), 'e': 2, 'f': {}}\n"
     ]
    }
   ],
   "source": [
    "func(1,2,4,5,6,e=2)"
   ]
  },
  {
   "cell_type": "code",
   "execution_count": 3,
   "metadata": {},
   "outputs": [
    {
     "name": "stdout",
     "output_type": "stream",
     "text": [
      "{'a': 1, 'c': 4, 'd': (), 'e': 2, 'f': {}}\n"
     ]
    }
   ],
   "source": [
    "func(1,c=4,e=2)"
   ]
  },
  {
   "cell_type": "code",
   "execution_count": 4,
   "metadata": {},
   "outputs": [
    {
     "data": {
      "text/plain": [
       "('a', 'c', 'e', 'd', 'f')"
      ]
     },
     "execution_count": 4,
     "metadata": {},
     "output_type": "execute_result"
    }
   ],
   "source": [
    "func.__code__.co_varnames"
   ]
  },
  {
   "cell_type": "code",
   "execution_count": 5,
   "metadata": {},
   "outputs": [
    {
     "name": "stdout",
     "output_type": "stream",
     "text": [
      "(8,)\n",
      "('a', 'b', 'g')\n",
      "2\n"
     ]
    }
   ],
   "source": [
    "print(func1.__defaults__)\n",
    "print(func1.__code__.co_varnames)\n",
    "print(func1.__code__.co_argcount)"
   ]
  },
  {
   "cell_type": "code",
   "execution_count": 9,
   "metadata": {},
   "outputs": [
    {
     "name": "stdout",
     "output_type": "stream",
     "text": [
      "(a, b=8, **g)\n"
     ]
    }
   ],
   "source": [
    "from inspect import signature\n",
    "sig = signature(func1)\n",
    "print(sig)"
   ]
  },
  {
   "cell_type": "code",
   "execution_count": 56,
   "metadata": {},
   "outputs": [
    {
     "name": "stdout",
     "output_type": "stream",
     "text": [
      "POSITIONAL_OR_KEYWORD :  a =  <class 'inspect._empty'>\n",
      "POSITIONAL_OR_KEYWORD :  b =  8\n",
      "VAR_KEYWORD :  g =  <class 'inspect._empty'>\n"
     ]
    }
   ],
   "source": [
    "for name, param in list(sig.parameters.items()):\n",
    "    print(param.kind, ': ', name, '= ', param.default)"
   ]
  },
  {
   "cell_type": "code",
   "execution_count": 54,
   "metadata": {},
   "outputs": [
    {
     "name": "stdout",
     "output_type": "stream",
     "text": [
      "<_ParameterKind.POSITIONAL_OR_KEYWORD: 1>\n"
     ]
    }
   ],
   "source": []
  },
  {
   "cell_type": "code",
   "execution_count": 57,
   "metadata": {},
   "outputs": [],
   "source": [
    "def tag(name, *content, cls=None, **attrs):\n",
    "    \"\"\"Генерирует один или несколько HTML-тегов\"\"\"\n",
    "    if cls is not None:\n",
    "        attrs['class'] = cls\n",
    "    if attrs:\n",
    "        attr_str = ''.join(\n",
    "            ' %s=\"%s\"' % (attr, value) for attr, value in sorted(attrs.items()))\n",
    "    else:\n",
    "        attr_str = ''\n",
    "    if content:\n",
    "        return '\\n'.join('<%s%s>%s</%s>' % (name, attr_str, c, name)\n",
    "                         for c in content)\n",
    "    else:\n",
    "        return '<%s%s />' % (name, attr_str)"
   ]
  },
  {
   "cell_type": "code",
   "execution_count": 75,
   "metadata": {},
   "outputs": [
    {
     "name": "stdout",
     "output_type": "stream",
     "text": [
      "(name, *content, cls=None, **attrs)\n",
      "******************************\n",
      "name :  img\n",
      "cls :  framed\n",
      "attrs :  {'title': 'Sunset Boulevard', 'src': 'sunset.jpg'}\n"
     ]
    }
   ],
   "source": [
    "sig = signature(tag)\n",
    "print(sig)\n",
    "print('*'*30)\n",
    "my_tag = {\n",
    "    'name': 'img',\n",
    "    'title': 'Sunset Boulevard',\n",
    "    'src': 'sunset.jpg',\n",
    "    'cls': 'framed',\n",
    "}\n",
    "bound_arg = sig.bind(**my_tag)\n",
    "for name, value in bound_arg.arguments.items():\n",
    "    print(name,': ',value)"
   ]
  },
  {
   "cell_type": "code",
   "execution_count": 77,
   "metadata": {},
   "outputs": [
    {
     "name": "stdout",
     "output_type": "stream",
     "text": [
      "TypeError: missing a required argument: \"name\"\n"
     ]
    }
   ],
   "source": [
    "try:\n",
    "    del my_tag['name']\n",
    "    bound_arg2 = sig.bind(**my_tag)\n",
    "except:\n",
    "    print('TypeError: missing a required argument: \"name\"')"
   ]
  },
  {
   "cell_type": "code",
   "execution_count": 84,
   "metadata": {},
   "outputs": [
    {
     "data": {
      "text/plain": [
       "120"
      ]
     },
     "execution_count": 84,
     "metadata": {},
     "output_type": "execute_result"
    }
   ],
   "source": [
    "import operator as op\n",
    "from functools import reduce\n",
    "reduce(op.mul,range(1,6))"
   ]
  },
  {
   "cell_type": "code",
   "execution_count": null,
   "metadata": {},
   "outputs": [],
   "source": []
  }
 ],
 "metadata": {
  "kernelspec": {
   "display_name": "Python 3.8.0 64-bit",
   "language": "python",
   "name": "python3"
  },
  "language_info": {
   "codemirror_mode": {
    "name": "ipython",
    "version": 3
   },
   "file_extension": ".py",
   "mimetype": "text/x-python",
   "name": "python",
   "nbconvert_exporter": "python",
   "pygments_lexer": "ipython3",
   "version": "3.8.0"
  },
  "orig_nbformat": 4,
  "vscode": {
   "interpreter": {
    "hash": "54f20e7e3e360f2961354ec07feee89ca859933b5816359cc03524f014ca106e"
   }
  }
 },
 "nbformat": 4,
 "nbformat_minor": 2
}
