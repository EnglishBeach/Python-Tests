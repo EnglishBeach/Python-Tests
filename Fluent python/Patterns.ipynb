{
 "cells": [
  {
   "cell_type": "markdown",
   "metadata": {},
   "source": [
    "# Strategy"
   ]
  },
  {
   "cell_type": "code",
   "execution_count": 1,
   "metadata": {},
   "outputs": [],
   "source": [
    "from abc import ABC, abstractmethod\n",
    "from collections import namedtuple\n",
    "\n",
    "Customer = namedtuple('Customer', 'name bonus')\n",
    "\n",
    "\n",
    "class Item:\n",
    "\n",
    "    def __init__(self, product, quantity, price) -> None:\n",
    "        self.product = product\n",
    "        self.quantity = quantity\n",
    "        self.price = price\n",
    "\n",
    "    def total(self):\n",
    "        return self.price * self.quantity\n",
    "\n",
    "\n",
    "class Order:\n",
    "\n",
    "    def __init__(self, customer, cart, promotion=None) -> None:\n",
    "        self.customer = customer\n",
    "        self.cart = list(cart)\n",
    "        self.promotion = promotion\n",
    "\n",
    "    def total(self):\n",
    "        if not hasattr(self, '__total'):\n",
    "            self.__total = sum(item.total() for item in self.cart)\n",
    "        return self.__total\n",
    "\n",
    "    def after_prom(self):\n",
    "        if self.promotion is None:\n",
    "            discount = 0\n",
    "        else:\n",
    "            discount = self.promotion.discount(self)\n",
    "        return self.total() - discount\n",
    "\n",
    "    def __repr__(self) -> str:\n",
    "        return f'<Order total: {self.total():.2f} after: {self.after_prom():.2f}>'\n",
    "\n",
    "\n",
    "class Promoution(ABC):\n",
    "\n",
    "    @abstractmethod\n",
    "    def discount(self, order):\n",
    "        \"\"\"Generate discount\"\"\"\n",
    "\n",
    "\n",
    "class Bonus_promo(Promoution):\n",
    "\n",
    "    def discount(self, order):\n",
    "        return order.total() * 0.05 if order.customer.bonus >= 1000 else 0\n",
    "\n",
    "\n",
    "class Value_promo(Promoution):\n",
    "\n",
    "    def discount(self, order):\n",
    "        discount = 0\n",
    "        for item in order.cart:\n",
    "            if item.quantity >= 20: discount *= item.total() * 0.1\n",
    "        return discount\n",
    "\n",
    "\n",
    "class Large_promo(Promoution):\n",
    "\n",
    "    def discount(self, order):\n",
    "        unique_items = {item.product for item in order.cart}\n",
    "        if len(unique_items) >= 5: return order.total() * 0.07\n",
    "        else: return 0"
   ]
  },
  {
   "cell_type": "code",
   "execution_count": 2,
   "metadata": {},
   "outputs": [
    {
     "data": {
      "text/plain": [
       "<Order total: 412.00 after: 391.40>"
      ]
     },
     "execution_count": 2,
     "metadata": {},
     "output_type": "execute_result"
    }
   ],
   "source": [
    "ann = Customer(name='Ann', bonus=0)\n",
    "joe = Customer(name='Joe', bonus=2000)\n",
    "cart1 = [\n",
    "    Item('apple', 10, 5),\n",
    "    Item('banana', 5, 8),\n",
    "    Item('toy', 1, 50),\n",
    "    Item('car', 2, 100),\n",
    "    Item('banana', 9, 8),\n",
    "]\n",
    "cart2 = [\n",
    "    Item('apple', 9, 5),\n",
    "    Item('banana', 5, 8),\n",
    "    Item('toy', 1, 50),\n",
    "    Item('car', 2, 100),\n",
    "    Item('banana', 19, 8),\n",
    "]\n",
    "Order(joe,cart1,Bonus_promo())"
   ]
  },
  {
   "cell_type": "code",
   "execution_count": 3,
   "metadata": {},
   "outputs": [],
   "source": [
    "class Order:\n",
    "\n",
    "    def __init__(self, customer, cart, promotion=None) -> None:\n",
    "        self.customer = customer\n",
    "        self.cart = list(cart)\n",
    "        self.promotion = promotion\n",
    "\n",
    "    def total(self):\n",
    "        if not hasattr(self, '__total'):\n",
    "            self.__total = sum(item.total() for item in self.cart)\n",
    "        return self.__total\n",
    "\n",
    "    def after_prom(self):\n",
    "        if self.promotion is None:\n",
    "            discount = 0\n",
    "        else:\n",
    "            discount = self.promotion(self)\n",
    "        return self.total() - discount\n",
    "\n",
    "    def __repr__(self) -> str:\n",
    "        return f'<Order total: {self.total():.2f} after: {self.after_prom():.2f}>'\n",
    "\n",
    "def Bonus_promo(order):\n",
    "    return order.total() * 0.05 if order.customer.bonus >= 1000 else 0\n",
    "\n",
    "def Value_promo(order):\n",
    "    discount = 0\n",
    "    for item in order.cart:\n",
    "        if item.quantity >= 20: discount *= item.total() * 0.1\n",
    "    return discount\n",
    "\n",
    "def Large_promo(order):\n",
    "    unique_items = {item.product for item in order.cart}\n",
    "    if len(unique_items) >= 5: return order.total() * 0.07\n",
    "    else: return 0\n",
    "    \n",
    "def Best_promo(order):\n",
    "    return max(promo(order)for promo in (Bonus_promo,Value_promo,Large_promo))\n"
   ]
  },
  {
   "cell_type": "code",
   "execution_count": 4,
   "metadata": {},
   "outputs": [
    {
     "data": {
      "text/plain": [
       "<Order total: 487.00 after: 487.00>"
      ]
     },
     "execution_count": 4,
     "metadata": {},
     "output_type": "execute_result"
    }
   ],
   "source": [
    "Order(joe,cart2,Value_promo)"
   ]
  },
  {
   "cell_type": "code",
   "execution_count": 5,
   "metadata": {},
   "outputs": [
    {
     "data": {
      "text/plain": [
       "<Order total: 487.00 after: 462.65>"
      ]
     },
     "execution_count": 5,
     "metadata": {},
     "output_type": "execute_result"
    }
   ],
   "source": [
    "Order(joe,cart2,Best_promo)"
   ]
  },
  {
   "cell_type": "markdown",
   "metadata": {},
   "source": [
    "# Command"
   ]
  },
  {
   "cell_type": "code",
   "execution_count": 13,
   "metadata": {},
   "outputs": [],
   "source": [
    "class Commands:\n",
    "\n",
    "    @staticmethod\n",
    "    def print_com():\n",
    "        print('Print command')\n",
    "\n",
    "    @staticmethod\n",
    "    def printValu_com():\n",
    "        value = 5\n",
    "        print(f'Value: {value:.2f}')\n",
    "\n",
    "    @staticmethod\n",
    "    def return_com():\n",
    "        return 'return sting'\n",
    "\n",
    "\n",
    "class MacroCommand:\n",
    "\n",
    "    def __init__(self, commads):\n",
    "        self.commads = list(commads)\n",
    "\n",
    "    def __call__(self):\n",
    "        return_list=[]\n",
    "        for com in self.commads:\n",
    "            return_list.append(com())\n",
    "        return return_list"
   ]
  },
  {
   "cell_type": "code",
   "execution_count": 14,
   "metadata": {},
   "outputs": [],
   "source": [
    "macro1 = MacroCommand(commads=[\n",
    "    Commands.print_com,\n",
    "    Commands.printValu_com,\n",
    "    Commands.return_com,\n",
    "], )\n"
   ]
  },
  {
   "cell_type": "code",
   "execution_count": 15,
   "metadata": {},
   "outputs": [
    {
     "name": "stdout",
     "output_type": "stream",
     "text": [
      "Print command\n",
      "Value: 5.00\n",
      "******************** \n",
      " [None, None, 'return sting']\n"
     ]
    }
   ],
   "source": [
    "a= macro1()\n",
    "print('*'*20,f'\\n {a}')"
   ]
  }
 ],
 "metadata": {
  "kernelspec": {
   "display_name": "Python 3.8.0 64-bit",
   "language": "python",
   "name": "python3"
  },
  "language_info": {
   "codemirror_mode": {
    "name": "ipython",
    "version": 3
   },
   "file_extension": ".py",
   "mimetype": "text/x-python",
   "name": "python",
   "nbconvert_exporter": "python",
   "pygments_lexer": "ipython3",
   "version": "3.8.0"
  },
  "orig_nbformat": 4,
  "vscode": {
   "interpreter": {
    "hash": "54f20e7e3e360f2961354ec07feee89ca859933b5816359cc03524f014ca106e"
   }
  }
 },
 "nbformat": 4,
 "nbformat_minor": 2
}
