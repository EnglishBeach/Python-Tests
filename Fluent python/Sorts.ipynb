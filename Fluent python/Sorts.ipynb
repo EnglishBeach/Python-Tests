{
 "cells": [
  {
   "cell_type": "code",
   "execution_count": 1,
   "metadata": {},
   "outputs": [],
   "source": [
    "import collections\n",
    "from random import choice"
   ]
  },
  {
   "cell_type": "code",
   "execution_count": 2,
   "metadata": {},
   "outputs": [],
   "source": [
    "Card = collections.namedtuple(typename='Card',field_names=['A','B','C'] )"
   ]
  },
  {
   "cell_type": "code",
   "execution_count": 3,
   "metadata": {},
   "outputs": [],
   "source": [
    "class Full_deck:\n",
    "    A = ['a1', 'a2', 'a3', 'a4']\n",
    "    B = ['b1', 'b2', 'b3']\n",
    "    C = ['c1', 'c2']\n",
    "\n",
    "    def __init__(self):\n",
    "        self._cards = [\n",
    "            Card(A=a, B=b, C=c)\n",
    "            for a in self.A\n",
    "            for b in self.B\n",
    "            for c in self.C\n",
    "        ] #yapf: disable\n",
    "\n",
    "    def __len__(self):\n",
    "        return len(self._cards)\n",
    "\n",
    "    def __getitem__(self, point):\n",
    "        return self._cards[point]\n",
    "\n",
    "    def get_pos(self, arg):\n",
    "        return dict([i[-1::-1] for i in enumerate(getattr(self, arg))])\n"
   ]
  },
  {
   "cell_type": "code",
   "execution_count": 4,
   "metadata": {},
   "outputs": [
    {
     "name": "stdout",
     "output_type": "stream",
     "text": [
      "Card(A='a1', B='b1', C='c1')\n",
      "Card(A='a1', B='b1', C='c2')\n",
      "Card(A='a1', B='b2', C='c1')\n",
      "Card(A='a1', B='b2', C='c2')\n",
      "Card(A='a1', B='b3', C='c1')\n",
      "Card(A='a1', B='b3', C='c2')\n",
      "Card(A='a2', B='b1', C='c1')\n",
      "Card(A='a2', B='b1', C='c2')\n",
      "Card(A='a2', B='b2', C='c1')\n",
      "Card(A='a2', B='b2', C='c2')\n",
      "Card(A='a2', B='b3', C='c1')\n",
      "Card(A='a2', B='b3', C='c2')\n",
      "Card(A='a3', B='b1', C='c1')\n",
      "Card(A='a3', B='b1', C='c2')\n",
      "Card(A='a3', B='b2', C='c1')\n",
      "Card(A='a3', B='b2', C='c2')\n",
      "Card(A='a3', B='b3', C='c1')\n",
      "Card(A='a3', B='b3', C='c2')\n",
      "Card(A='a4', B='b1', C='c1')\n",
      "Card(A='a4', B='b1', C='c2')\n",
      "Card(A='a4', B='b2', C='c1')\n",
      "Card(A='a4', B='b2', C='c2')\n",
      "Card(A='a4', B='b3', C='c1')\n",
      "Card(A='a4', B='b3', C='c2')\n",
      "****************************\n",
      "Card(A='a3', B='b3', C='c1')\n"
     ]
    }
   ],
   "source": [
    "deck = Full_deck()\n",
    "card1 = choice(deck)\n",
    "A_values = deck.get_pos('A')\n",
    "B_values = deck.get_pos('B')\n",
    "C_values = deck.get_pos('C')\n",
    "for i in deck:\n",
    "    print(i)\n",
    "print('*'*28)\n",
    "print(card1)"
   ]
  },
  {
   "cell_type": "code",
   "execution_count": 5,
   "metadata": {},
   "outputs": [],
   "source": [
    "def aBC_sort(card):\n",
    "    value = (len(A_values) - A_values[card.A]) * len(B_values) * len(C_values)\n",
    "    value += B_values[card.B] * len(C_values)\n",
    "    value += C_values[card.C]\n",
    "    return value\n",
    "\n",
    "\n",
    "def BAc_sort(card):\n",
    "    value = B_values[card.B] * len(C_values) * len(A_values)\n",
    "    value += A_values[card.A] * len(C_values)\n",
    "    value += len(C_values) - C_values[card.C]\n",
    "    return value"
   ]
  },
  {
   "cell_type": "code",
   "execution_count": 6,
   "metadata": {},
   "outputs": [
    {
     "name": "stdout",
     "output_type": "stream",
     "text": [
      "22\n",
      "****************************\n",
      "Card(A='a1', B='b1', C='c2')\n",
      "Card(A='a1', B='b1', C='c1')\n",
      "Card(A='a2', B='b1', C='c2')\n",
      "Card(A='a2', B='b1', C='c1')\n",
      "Card(A='a3', B='b1', C='c2')\n",
      "Card(A='a3', B='b1', C='c1')\n",
      "Card(A='a4', B='b1', C='c2')\n",
      "Card(A='a4', B='b1', C='c1')\n",
      "Card(A='a1', B='b2', C='c2')\n",
      "Card(A='a1', B='b2', C='c1')\n",
      "Card(A='a2', B='b2', C='c2')\n",
      "Card(A='a2', B='b2', C='c1')\n",
      "Card(A='a3', B='b2', C='c2')\n",
      "Card(A='a3', B='b2', C='c1')\n",
      "Card(A='a4', B='b2', C='c2')\n",
      "Card(A='a4', B='b2', C='c1')\n",
      "Card(A='a1', B='b3', C='c2')\n",
      "Card(A='a1', B='b3', C='c1')\n",
      "Card(A='a2', B='b3', C='c2')\n",
      "Card(A='a2', B='b3', C='c1')\n",
      "Card(A='a3', B='b3', C='c2')\n",
      "Card(A='a3', B='b3', C='c1')\n",
      "Card(A='a4', B='b3', C='c2')\n",
      "Card(A='a4', B='b3', C='c1')\n"
     ]
    }
   ],
   "source": [
    "print(BAc_sort(card1))\n",
    "print('*'*28)\n",
    "for card in sorted(deck,key=BAc_sort):\n",
    "    print(card)"
   ]
  }
 ],
 "metadata": {
  "kernelspec": {
   "display_name": "Python 3.8.0 64-bit",
   "language": "python",
   "name": "python3"
  },
  "language_info": {
   "codemirror_mode": {
    "name": "ipython",
    "version": 3
   },
   "file_extension": ".py",
   "mimetype": "text/x-python",
   "name": "python",
   "nbconvert_exporter": "python",
   "pygments_lexer": "ipython3",
   "version": "3.8.0"
  },
  "orig_nbformat": 4,
  "vscode": {
   "interpreter": {
    "hash": "54f20e7e3e360f2961354ec07feee89ca859933b5816359cc03524f014ca106e"
   }
  }
 },
 "nbformat": 4,
 "nbformat_minor": 2
}
