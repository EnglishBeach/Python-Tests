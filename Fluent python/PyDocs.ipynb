{
 "cells": [
  {
   "cell_type": "code",
   "execution_count": 5,
   "metadata": {},
   "outputs": [],
   "source": [
    "def one(posagr,/,arg1,arg2):\n",
    "    return arg1,arg2"
   ]
  },
  {
   "cell_type": "code",
   "execution_count": 7,
   "metadata": {},
   "outputs": [
    {
     "ename": "TypeError",
     "evalue": "one() got some positional-only arguments passed as keyword arguments: 'posagr'",
     "output_type": "error",
     "traceback": [
      "\u001b[1;31m---------------------------------------------------------------------------\u001b[0m",
      "\u001b[1;31mTypeError\u001b[0m                                 Traceback (most recent call last)",
      "\u001b[1;32md:\\Works\\Python Tests\\Fluent python\\First.ipynb Ячейка 2\u001b[0m in \u001b[0;36m<cell line: 1>\u001b[1;34m()\u001b[0m\n\u001b[1;32m----> <a href='vscode-notebook-cell:/d%3A/Works/Python%20Tests/Fluent%20python/First.ipynb#W1sZmlsZQ%3D%3D?line=0'>1</a>\u001b[0m one(posagr\u001b[39m=\u001b[39;49m\u001b[39m1\u001b[39;49m,arg1\u001b[39m=\u001b[39;49m\u001b[39m3\u001b[39;49m,arg2\u001b[39m=\u001b[39;49m\u001b[39m2\u001b[39;49m)\n",
      "\u001b[1;31mTypeError\u001b[0m: one() got some positional-only arguments passed as keyword arguments: 'posagr'"
     ]
    }
   ],
   "source": [
    "one(posagr=1,arg1=3,arg2=2)"
   ]
  },
  {
   "cell_type": "code",
   "execution_count": 8,
   "metadata": {},
   "outputs": [],
   "source": [
    "d = {\"voltage\": \"four million\", \"state\": \"bleedin' demised\", \"action\": \"VOOM\"}"
   ]
  },
  {
   "cell_type": "code",
   "execution_count": 11,
   "metadata": {},
   "outputs": [
    {
     "ename": "TypeError",
     "evalue": "'voltage' is an invalid keyword argument for print()",
     "output_type": "error",
     "traceback": [
      "\u001b[1;31m---------------------------------------------------------------------------\u001b[0m",
      "\u001b[1;31mTypeError\u001b[0m                                 Traceback (most recent call last)",
      "\u001b[1;32md:\\Works\\Python Tests\\Fluent python\\First.ipynb Ячейка 4\u001b[0m in \u001b[0;36m<cell line: 1>\u001b[1;34m()\u001b[0m\n\u001b[1;32m----> <a href='vscode-notebook-cell:/d%3A/Works/Python%20Tests/Fluent%20python/First.ipynb#W3sZmlsZQ%3D%3D?line=0'>1</a>\u001b[0m \u001b[39mprint\u001b[39;49m(\u001b[39m*\u001b[39;49m\u001b[39m*\u001b[39;49md)\n",
      "\u001b[1;31mTypeError\u001b[0m: 'voltage' is an invalid keyword argument for print()"
     ]
    }
   ],
   "source": [
    "print(**d)"
   ]
  },
  {
   "cell_type": "code",
   "execution_count": 1,
   "metadata": {},
   "outputs": [],
   "source": [
    "class A(Exception):\n",
    "    pass\n",
    "\n",
    "class B(A):\n",
    "    pass\n",
    "class C(B):\n",
    "    pass"
   ]
  },
  {
   "cell_type": "code",
   "execution_count": 7,
   "metadata": {},
   "outputs": [
    {
     "name": "stdout",
     "output_type": "stream",
     "text": [
      "A\n",
      "B\n",
      "C\n"
     ]
    }
   ],
   "source": [
    "for cls in [A,B,C]:\n",
    "    try:\n",
    "        raise cls\n",
    "    except C:\n",
    "        print('C')\n",
    "    except B:\n",
    "        print('B')\n",
    "    except A:\n",
    "        print('A') "
   ]
  },
  {
   "cell_type": "code",
   "execution_count": 14,
   "metadata": {},
   "outputs": [],
   "source": [
    "c1= C\n",
    "c2= C"
   ]
  },
  {
   "cell_type": "code",
   "execution_count": 16,
   "metadata": {},
   "outputs": [
    {
     "data": {
      "text/plain": [
       "True"
      ]
     },
     "execution_count": 16,
     "metadata": {},
     "output_type": "execute_result"
    }
   ],
   "source": [
    "c1 is c2"
   ]
  },
  {
   "cell_type": "code",
   "execution_count": 35,
   "metadata": {},
   "outputs": [],
   "source": [
    "class Class1:\n",
    "    class_i = 10\n",
    "    def func(self):\n",
    "        return 50\n",
    "    @classmethod\n",
    "    def func_class(cls):\n",
    "        return 60\n",
    "    @staticmethod\n",
    "    def func_static():\n",
    "        return 90"
   ]
  },
  {
   "cell_type": "code",
   "execution_count": 37,
   "metadata": {},
   "outputs": [
    {
     "name": "stdout",
     "output_type": "stream",
     "text": [
      "<function Class1.func at 0x00000220B0B70AF0>\n",
      "<bound method Class1.func_class of <class '__main__.Class1'>>\n",
      "<function Class1.func_static at 0x00000220B0B733A0>\n"
     ]
    }
   ],
   "source": [
    "print(Class1.func)\n",
    "print(Class1.func_class)\n",
    "print(Class1.func_static)"
   ]
  },
  {
   "cell_type": "code",
   "execution_count": 39,
   "metadata": {},
   "outputs": [
    {
     "name": "stdout",
     "output_type": "stream",
     "text": [
      "<bound method Class1.func of <__main__.Class1 object at 0x00000220AF2E6730>>\n",
      "<bound method Class1.func_class of <class '__main__.Class1'>>\n",
      "<function Class1.func_static at 0x00000220B0B733A0>\n",
      "10\n"
     ]
    }
   ],
   "source": [
    "a=Class1()\n",
    "print(a.func)\n",
    "print(a.func_class)\n",
    "print(a.func_static)\n",
    "print(a.class_i)"
   ]
  },
  {
   "cell_type": "code",
   "execution_count": null,
   "metadata": {},
   "outputs": [],
   "source": [
    "class Class2:\n",
    "    def public_method(self):\n",
    "        return 10\n",
    "    def _private_method(self,param):\n",
    "        return param\n",
    "    def __superprivate(self,param):\n",
    "        return 10*param\n",
    "    \n",
    "class Subclass2(Class2):\n",
    "    "
   ]
  }
 ],
 "metadata": {
  "kernelspec": {
   "display_name": "Python 3.8.0 64-bit",
   "language": "python",
   "name": "python3"
  },
  "language_info": {
   "codemirror_mode": {
    "name": "ipython",
    "version": 3
   },
   "file_extension": ".py",
   "mimetype": "text/x-python",
   "name": "python",
   "nbconvert_exporter": "python",
   "pygments_lexer": "ipython3",
   "version": "3.8.0"
  },
  "orig_nbformat": 4,
  "vscode": {
   "interpreter": {
    "hash": "54f20e7e3e360f2961354ec07feee89ca859933b5816359cc03524f014ca106e"
   }
  }
 },
 "nbformat": 4,
 "nbformat_minor": 2
}
