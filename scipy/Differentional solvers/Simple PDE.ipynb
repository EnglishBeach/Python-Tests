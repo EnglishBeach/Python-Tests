{
 "cells": [
  {
   "cell_type": "code",
   "execution_count": 2,
   "metadata": {},
   "outputs": [],
   "source": [
    "import numpy as np\n",
    "from scipy import linalg as lng\n",
    "from tqdm import tqdm\n",
    "import time\n",
    "import matplotlib.pyplot as plt"
   ]
  },
  {
   "cell_type": "code",
   "execution_count": 44,
   "metadata": {},
   "outputs": [],
   "source": [
    "class lap_class:\n",
    "\n",
    "    def __init__(self, x):\n",
    "        step = x[1] - x[0]\n",
    "        lap = np.zeros(shape=(x.shape[0], x.shape[0]))\n",
    "        lap[0, 0] = 1\n",
    "        lap[-1, -1] = 1\n",
    "\n",
    "        col = 1\n",
    "        for row in range(1, len(x) - 1):\n",
    "            lap[row, col - 1] = 1\n",
    "            lap[row, col] = -2\n",
    "            lap[row, col + 1] = 1\n",
    "            col += 1\n",
    "\n",
    "        self._mat = lap\n",
    "        self._step = step\n",
    "\n",
    "    def __call__(self, vector):\n",
    "\n",
    "        return self._mat @ vector / self._step**2\n",
    "\n",
    "\n",
    "class grad_class:\n",
    "\n",
    "    def __init__(self, x):\n",
    "        step = x[1] - x[0]\n",
    "        gr = np.zeros(shape=(x.shape[0], x.shape[0]))\n",
    "        gr[0, 0] = 1\n",
    "        gr[-1, -1] = 1\n",
    "\n",
    "        col = 1\n",
    "        for row in range(1, len(x) - 1):\n",
    "            gr[row, col - 1] = -1\n",
    "            gr[row, col + 1] = 1\n",
    "            col += 1\n",
    "\n",
    "        self._mat = gr\n",
    "        self._step = step\n",
    "\n",
    "    def __call__(self, vector):\n",
    "        return self._mat @ vector / 2 * self._step\n",
    "\n",
    "\n",
    "# def grad(vector):\n",
    "\n",
    "#     gr =\n",
    "\n",
    "#     return np.array(/2*H)"
   ]
  },
  {
   "cell_type": "code",
   "execution_count": 65,
   "metadata": {},
   "outputs": [
    {
     "name": "stdout",
     "output_type": "stream",
     "text": [
      "[0.25 0.16 0.09 0.04 0.01 0.   0.01 0.04 0.09 0.16 0.25]\n",
      "[ 1.25000000e-02 -8.00000000e-03 -6.00000000e-03 -4.00000000e-03\n",
      " -2.00000000e-03  1.12757026e-18  2.00000000e-03  4.00000000e-03\n",
      "  6.00000000e-03  8.00000000e-03  1.25000000e-02]\n"
     ]
    }
   ],
   "source": [
    "x=np.linspace(0,1,11)\n",
    "H = x[1]-x[0]\n",
    "lap = lap_class(x=x)\n",
    "grad = grad_class(x)\n",
    "\n",
    "u0 = (x-0.5)**2\n",
    "print(\n",
    "    u0,\n",
    "    grad(u0),\n",
    "sep='\\n'\n",
    ")"
   ]
  },
  {
   "cell_type": "code",
   "execution_count": 67,
   "metadata": {},
   "outputs": [
    {
     "data": {
      "text/plain": [
       "[<matplotlib.lines.Line2D at 0x1c15ac8d670>]"
      ]
     },
     "execution_count": 67,
     "metadata": {},
     "output_type": "execute_result"
    },
    {
     "data": {
      "image/png": "[encoded data removed]",
      "text/plain": [
       "<Figure size 432x288 with 1 Axes>"
      ]
     },
     "metadata": {
      "needs_background": "light"
     },
     "output_type": "display_data"
    }
   ],
   "source": [
    "plt.plot(x[1:-1],u0[1:-1])\n",
    "plt.plot(x[1:-1],grad(u0)[1:-1])\n",
    "# plt.plot(x,lap(u0))"
   ]
  }
 ],
 "metadata": {
  "kernelspec": {
   "display_name": "Python 3.8.0 64-bit",
   "language": "python",
   "name": "python3"
  },
  "language_info": {
   "codemirror_mode": {
    "name": "ipython",
    "version": 3
   },
   "file_extension": ".py",
   "mimetype": "text/x-python",
   "name": "python",
   "nbconvert_exporter": "python",
   "pygments_lexer": "ipython3",
   "version": "3.8.0"
  },
  "orig_nbformat": 4,
  "vscode": {
   "interpreter": {
    "hash": "54f20e7e3e360f2961354ec07feee89ca859933b5816359cc03524f014ca106e"
   }
  }
 },
 "nbformat": 4,
 "nbformat_minor": 2
}
