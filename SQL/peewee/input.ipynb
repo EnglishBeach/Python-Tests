{
 "cells": [
  {
   "cell_type": "code",
   "execution_count": 1,
   "metadata": {},
   "outputs": [],
   "source": [
    "from models import Category,Product,database_connection\n",
    "import peewee as pe"
   ]
  },
  {
   "cell_type": "code",
   "execution_count": 9,
   "metadata": {},
   "outputs": [],
   "source": [
    "categories_data = [\n",
    "    dict(name='Books', description='Papers books.'),\n",
    "    dict(name='Electronic Books', description='Web books.'),\n",
    "    dict(name='Mashines', description='Printers,scanets, ect.'),\n",
    "    dict(name='Pens', description='Pencils and pens')\n",
    "]\n",
    "with database_connection:\n",
    "    q= Category.insert_many(categories_data,fields=[Category.name,Category.description]) #querry \n",
    "    q.execute()"
   ]
  },
  {
   "cell_type": "code",
   "execution_count": 5,
   "metadata": {},
   "outputs": [
    {
     "name": "stdout",
     "output_type": "stream",
     "text": [
      "Done\n"
     ]
    }
   ],
   "source": [
    "# with database_connection:\n",
    "#     maschines = Category.get(name='Mashines')\n",
    "#     temp_data = temp_data = [{\n",
    "#         'name': name, 'category': maschines, 'price': 20*10 - len(name) * 10\n",
    "#     } for name in ['Scanner', 'Printer', 'Cartridge', 'Pad']]\n",
    "    \n",
    "#     Product.insert_many(\n",
    "#         temp_data,\n",
    "#         fields=[Product.name, Product.category, Product.price],\n",
    "#     ).execute()\n",
    "# print('Done')\n",
    "    \n",
    "    \n",
    "with database_connection:\n",
    "    maschines = Category.get(name='Books')\n",
    "    temp_data = temp_data = [{\n",
    "        'name': name, 'category': maschines, 'price': 20 - len(name) \n",
    "    } for name in ['Nature', 'Storytales', 'Fantastic', 'History']]\n",
    "    \n",
    "    Product.insert_many(\n",
    "        temp_data,\n",
    "        fields=[Product.name, Product.category, Product.price],\n",
    "    ).execute()\n",
    "print('Done')"
   ]
  }
 ],
 "metadata": {
  "kernelspec": {
   "display_name": "Python 3.8.0 64-bit",
   "language": "python",
   "name": "python3"
  },
  "language_info": {
   "codemirror_mode": {
    "name": "ipython",
    "version": 3
   },
   "file_extension": ".py",
   "mimetype": "text/x-python",
   "name": "python",
   "nbconvert_exporter": "python",
   "pygments_lexer": "ipython3",
   "version": "3.8.0"
  },
  "orig_nbformat": 4,
  "vscode": {
   "interpreter": {
    "hash": "9650cb4e16cdd4a8e8e2d128bf38d875813998db22a3c986335f89e0cb4d7bb2"
   }
  }
 },
 "nbformat": 4,
 "nbformat_minor": 2
}
