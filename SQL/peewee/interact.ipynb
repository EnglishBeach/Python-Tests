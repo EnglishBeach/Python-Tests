{
 "cells": [
  {
   "cell_type": "code",
   "execution_count": 1,
   "metadata": {},
   "outputs": [],
   "source": [
    "from models import Category,Product,database\n",
    "import peewee as pe"
   ]
  },
  {
   "cell_type": "markdown",
   "metadata": {},
   "source": [
    "# C"
   ]
  },
  {
   "cell_type": "code",
   "execution_count": null,
   "metadata": {},
   "outputs": [],
   "source": [
    "Category.create(name='VIP', description='Unique things') # method"
   ]
  },
  {
   "cell_type": "code",
   "execution_count": null,
   "metadata": {},
   "outputs": [],
   "source": [
    "with database:\n",
    "    Category(name = 'Standalone').save() # Object"
   ]
  },
  {
   "cell_type": "code",
   "execution_count": null,
   "metadata": {},
   "outputs": [],
   "source": [
    "with database:\n",
    "    q= Category.insert(name = 'Others') # Querry\n",
    "    q.execute()"
   ]
  },
  {
   "cell_type": "code",
   "execution_count": null,
   "metadata": {},
   "outputs": [],
   "source": [
    "categories_data = [\n",
    "    dict(name='Books', description='Papers books.'),\n",
    "    dict(name='Electronic Books', description='Web books.'),\n",
    "    dict(name='Mashines', description='Printers,scanets, ect.'),\n",
    "    dict(name='Pens', description='Pencils and pens')\n",
    "]\n",
    "with database: \n",
    "    for line in categories_data:\n",
    "        Category.create(**line) # create in loop"
   ]
  },
  {
   "cell_type": "code",
   "execution_count": null,
   "metadata": {},
   "outputs": [],
   "source": [
    "categories_data = [\n",
    "    dict(name='Books2', description='Papers books v2.'),\n",
    "    dict(name='Electronic_Books2', description='Web books v2.'),\n",
    "    dict(name='Mashines2', description='Printers,scanets, ect v2.'),\n",
    "    dict(name='Pens2', description='Pencils and pens v2')\n",
    "]\n",
    "with database:\n",
    "    q= Category.insert_many(categories_data,fields=[Category.name,Category.description]) #querry \n",
    "    q.execute()"
   ]
  },
  {
   "cell_type": "code",
   "execution_count": null,
   "metadata": {},
   "outputs": [],
   "source": [
    "categories_data = [\n",
    "    dict(name='Books3', description='Papers books v3.'),\n",
    "    dict(name='Electronic Books3', description='Web books v3.'),\n",
    "    dict(name='Mashines3', description='Printers,scanets, ect v3.'),\n",
    "    dict(name='Pens3', description='Pencils and pens v3')\n",
    "]\n",
    "with database.atomic():\n",
    "    for line in categories_data:\n",
    "        Category.create(**line) # create in loop as one transaction"
   ]
  },
  {
   "cell_type": "code",
   "execution_count": null,
   "metadata": {},
   "outputs": [],
   "source": [
    "with database:\n",
    "    books = Category.get(Category.name == 'Books')\n",
    "    Product.create(name='The economist', price=100, category=books)\n"
   ]
  },
  {
   "cell_type": "code",
   "execution_count": null,
   "metadata": {},
   "outputs": [],
   "source": [
    "names= ['Journal','Thermodinamics','Kinetic']\n",
    "with database:\n",
    "    books = Category.get(Category.name == 'Books')\n",
    "    for name in names:\n",
    "        Product.create(name=name, price=100, category=books)\n"
   ]
  },
  {
   "cell_type": "code",
   "execution_count": null,
   "metadata": {},
   "outputs": [],
   "source": [
    "names = ['Scanner', 'Printer', 'Cartridge', 'Pad']\n",
    "\n",
    "[{'name': name, 'category': 1, 'price': 20-len(name)} for name in names]\n"
   ]
  },
  {
   "cell_type": "code",
   "execution_count": null,
   "metadata": {},
   "outputs": [],
   "source": [
    "with database:\n",
    "    maschines = Category.get(name='Mashines')\n",
    "    data = [{\n",
    "        'name': name, 'category': maschines, 'price': 20*10 - len(name)*10\n",
    "    } for name in names]\n",
    "    Product.insert_many(\n",
    "        data,\n",
    "        fields=[Product.name, Product.category, Product.price],\n",
    "    ).execute()\n"
   ]
  },
  {
   "cell_type": "markdown",
   "metadata": {},
   "source": [
    "# R"
   ]
  },
  {
   "cell_type": "code",
   "execution_count": null,
   "metadata": {},
   "outputs": [],
   "source": [
    "#querry automatic use q.execute() in for\n",
    "with database:\n",
    "    q = Category.select()\n",
    "\n",
    "for line in q: \n",
    "    print(line.id,line.name,)"
   ]
  },
  {
   "cell_type": "code",
   "execution_count": null,
   "metadata": {},
   "outputs": [],
   "source": [
    "# strange behavior\n",
    "with database:\n",
    "    p = Category.get(Category.id>3)\n",
    "    \n",
    "print(p.id,p.name)\n",
    "# for i in p:\n",
    "#     print(p.id)"
   ]
  },
  {
   "cell_type": "code",
   "execution_count": null,
   "metadata": {},
   "outputs": [],
   "source": [
    "# 1+n problem selection\n",
    "with database:\n",
    "    q = Product.select()\n",
    "    q = q.execute()\n",
    "print(q)\n",
    "print(list(q)[5].id)"
   ]
  },
  {
   "cell_type": "code",
   "execution_count": null,
   "metadata": {},
   "outputs": [],
   "source": [
    "for line in q:\n",
    "    print('{0:2} {1:.<30} {2:>4.0f} | {3: <10}'.format(line.id,\n",
    "                                                    line.name,\n",
    "                                                    line.price,\n",
    "                                                    line.category.name)) # 1+n problem\n"
   ]
  },
  {
   "cell_type": "code",
   "execution_count": null,
   "metadata": {},
   "outputs": [],
   "source": [
    "# Solving 1+n problem selection\n",
    "with database:\n",
    "    q = Product.select(Product.id,Product.name,Product.price,Category.name).join(Category)\n",
    "    print(q)\n",
    "    q = q.execute()\n",
    "print(list(q)[5].id)"
   ]
  },
  {
   "cell_type": "code",
   "execution_count": null,
   "metadata": {},
   "outputs": [],
   "source": [
    "for line in q:\n",
    "    # print(line.name)\n",
    "    print('{0:2} {1:.<30} {2:>4.0f} | {3: <10}'.format(line.id,\n",
    "                                                    line.name,\n",
    "                                                    line.price,\n",
    "                                                    line.category.name))"
   ]
  },
  {
   "cell_type": "code",
   "execution_count": 6,
   "metadata": {},
   "outputs": [
    {
     "name": "stdout",
     "output_type": "stream",
     "text": [
      "VIP 0\n",
      "VIP 0\n",
      "Standalone 0\n",
      "Othersadde 0\n",
      "Books 4\n",
      "Electronic 0\n",
      "Mashines 8\n",
      "Pens 0\n",
      "Books2 0\n",
      "Electronic 0\n",
      "Mashines2 0\n",
      "Pens2 0\n",
      "Books2 0\n",
      "Electronic 0\n",
      "Mashines2 0\n",
      "Pens2 0\n"
     ]
    }
   ],
   "source": [
    "# 1+n count group by\n",
    "with database:\n",
    "    for cat in Category.select():\n",
    "        print(cat.name,Product.select().where(Product.category_id == cat).count())\n",
    "\n",
    "# with database:\n",
    "#     for cat in Category.select():\n",
    "#         for i in Product.select().where(Product.category_id == cat):\n",
    "#             print(i.name)\n",
    "#         print('{0:.^20}'.format('Empty'))"
   ]
  },
  {
   "cell_type": "code",
   "execution_count": 27,
   "metadata": {},
   "outputs": [
    {
     "name": "stdout",
     "output_type": "stream",
     "text": [
      "SELECT `t1`.`name`, count(`t2`.`id`) AS `num` FROM `Categories` AS `t1` INNER JOIN `product` AS `t2` ON (`t2`.`category_id` = `t1`.`id`) GROUP BY `t1`.`id`, `t1`.`name`, `t1`.`description`\n",
      "Books\n"
     ]
    }
   ],
   "source": [
    "# solving 1+n count group by\n",
    "with database:\n",
    "    q = (Category\n",
    "        .select(Category.name, pe.fn.count(Product.id).alias('num'))\n",
    "        .join(Product)\n",
    "        .group_by(Category))\n",
    "    print(q)\n",
    "q = q.execute()\n",
    "print(list(q)[0].name)\n"
   ]
  },
  {
   "cell_type": "code",
   "execution_count": 28,
   "metadata": {},
   "outputs": [
    {
     "name": "stdout",
     "output_type": "stream",
     "text": [
      "Books 4\n",
      "Mashines 8\n"
     ]
    }
   ],
   "source": [
    "for line in q:\n",
    "    print(line.name,line.num)"
   ]
  },
  {
   "cell_type": "code",
   "execution_count": 13,
   "metadata": {},
   "outputs": [
    {
     "name": "stdout",
     "output_type": "stream",
     "text": [
      "SELECT `t1`.`id`, `t1`.`name`, `t1`.`description` FROM `Categories` AS `t1`\n",
      "VIP\n"
     ]
    }
   ],
   "source": [
    "with database:\n",
    "    q= Category.select()\n",
    "    print(q)\n",
    "    q.prefetch(Product)\n",
    "print(q[0].name)"
   ]
  },
  {
   "cell_type": "code",
   "execution_count": 16,
   "metadata": {},
   "outputs": [
    {
     "name": "stdout",
     "output_type": "stream",
     "text": [
      "VIP\n",
      "VIP\n",
      "Standalone\n",
      "Othersadde\n",
      "Books\n",
      " * The economist\n",
      " * Journal\n",
      " * Thermodinamics\n",
      " * Kinetic\n",
      "Electronic\n",
      "Mashines\n",
      " * Scanner\n",
      " * Printer\n",
      " * Cartridge\n",
      " * Pad\n",
      " * Scanner\n",
      " * Printer\n",
      " * Cartridge\n",
      " * Pad\n",
      "Pens\n",
      "Books2\n",
      "Electronic\n",
      "Mashines2\n",
      "Pens2\n",
      "Books2\n",
      "Electronic\n",
      "Mashines2\n",
      "Pens2\n"
     ]
    }
   ],
   "source": [
    "for line in q:\n",
    "    print(line.name)\n",
    "    for prod in line.fk_category:\n",
    "        print(' *',prod.name)"
   ]
  },
  {
   "cell_type": "code",
   "execution_count": 5,
   "metadata": {},
   "outputs": [
    {
     "data": {
      "text/plain": [
       "[{'id': 1, 'name': 'VIP', 'description': 'Unique things'},\n",
       " {'id': 2, 'name': 'VIP', 'description': 'Unique things'},\n",
       " {'id': 3, 'name': 'Standalone', 'description': ''},\n",
       " {'id': 4, 'name': 'Othersadde', 'description': ''},\n",
       " {'id': 5, 'name': 'Books', 'description': 'Papers books.'},\n",
       " {'id': 6, 'name': 'Electronic', 'description': 'Web books.'},\n",
       " {'id': 7, 'name': 'Mashines', 'description': 'Printers,scanets, ect.'},\n",
       " {'id': 8, 'name': 'Pens', 'description': 'Pencils and pens'},\n",
       " {'id': 9, 'name': 'Books2', 'description': 'Papers books v2.'},\n",
       " {'id': 10, 'name': 'Electronic', 'description': 'Web books v2.'},\n",
       " {'id': 11, 'name': 'Mashines2', 'description': 'Printers,scanets, ect v2.'},\n",
       " {'id': 12, 'name': 'Pens2', 'description': 'Pencils and pens v2'},\n",
       " {'id': 13, 'name': 'Books2', 'description': 'Papers books v2.'},\n",
       " {'id': 14, 'name': 'Electronic', 'description': 'Web books v2.'},\n",
       " {'id': 15, 'name': 'Mashines2', 'description': 'Printers,scanets, ect v2.'},\n",
       " {'id': 16, 'name': 'Pens2', 'description': 'Pencils and pens v2'}]"
      ]
     },
     "execution_count": 5,
     "metadata": {},
     "output_type": "execute_result"
    }
   ],
   "source": [
    "# Querry is not list\n",
    "with database:\n",
    "    q= Category.select().dicts()\n",
    "list(q)"
   ]
  },
  {
   "cell_type": "markdown",
   "metadata": {},
   "source": [
    "# U"
   ]
  },
  {
   "cell_type": "code",
   "execution_count": null,
   "metadata": {},
   "outputs": [],
   "source": [
    "with database:\n",
    "    cat = Category.get_by_id(4) \n",
    "    cat.name +='added'\n",
    "    cat.save()  #Update object\n",
    "    print(cat.name)"
   ]
  },
  {
   "cell_type": "code",
   "execution_count": null,
   "metadata": {},
   "outputs": [],
   "source": [
    "with database:\n",
    "    q= Category.update(name = 'unknown').where(Category.id>16) # update querry\n",
    "    q.execute()"
   ]
  },
  {
   "cell_type": "markdown",
   "metadata": {},
   "source": [
    "# D"
   ]
  },
  {
   "cell_type": "code",
   "execution_count": null,
   "metadata": {},
   "outputs": [],
   "source": [
    "with database:\n",
    "    q= Category.delete().where(Category.name =='unknown' ) #querry\n",
    "    q.execute()"
   ]
  },
  {
   "cell_type": "markdown",
   "metadata": {},
   "source": [
    "# M"
   ]
  },
  {
   "cell_type": "markdown",
   "metadata": {},
   "source": [
    "# Tests"
   ]
  },
  {
   "cell_type": "code",
   "execution_count": null,
   "metadata": {},
   "outputs": [],
   "source": [
    "with database:\n",
    "    q1 = Category.select()\n",
    "    q2= q1.where(Category.id >5)\n",
    "    q3 =q2.order_by(Category.name)\n",
    "    for line in q3:\n",
    "        print(line.id,line.name)"
   ]
  },
  {
   "cell_type": "code",
   "execution_count": null,
   "metadata": {},
   "outputs": [],
   "source": [
    "with database:\n",
    "    q = Category.select()\n",
    "    q2 = q.where(Category.id>3)\n",
    "    q3 = q2.execute()\n",
    "print(type(q))\n",
    "print(q)\n",
    "print('*'*40)\n",
    "print(type(q2))\n",
    "print(q2)\n",
    "print('*'*40)\n",
    "print(type(q3))\n",
    "print(q3)"
   ]
  },
  {
   "cell_type": "code",
   "execution_count": null,
   "metadata": {},
   "outputs": [],
   "source": [
    "with database:\n",
    "    q = Category.select()\n",
    "    q2 = q.name"
   ]
  }
 ],
 "metadata": {
  "kernelspec": {
   "display_name": "Python 3.8.0 64-bit",
   "language": "python",
   "name": "python3"
  },
  "language_info": {
   "codemirror_mode": {
    "name": "ipython",
    "version": 3
   },
   "file_extension": ".py",
   "mimetype": "text/x-python",
   "name": "python",
   "nbconvert_exporter": "python",
   "pygments_lexer": "ipython3",
   "version": "3.8.0"
  },
  "orig_nbformat": 4,
  "vscode": {
   "interpreter": {
    "hash": "9650cb4e16cdd4a8e8e2d128bf38d875813998db22a3c986335f89e0cb4d7bb2"
   }
  }
 },
 "nbformat": 4,
 "nbformat_minor": 2
}
