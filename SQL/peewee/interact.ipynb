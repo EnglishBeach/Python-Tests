{
 "cells": [
  {
   "cell_type": "code",
   "execution_count": 1,
   "metadata": {},
   "outputs": [],
   "source": [
    "from models import Category,Product,database\n",
    "import peewee as pe"
   ]
  },
  {
   "cell_type": "markdown",
   "metadata": {},
   "source": [
    "# C"
   ]
  },
  {
   "cell_type": "code",
   "execution_count": null,
   "metadata": {},
   "outputs": [],
   "source": [
    "Category.create(name='VIP', description='Unique things') # method"
   ]
  },
  {
   "cell_type": "code",
   "execution_count": null,
   "metadata": {},
   "outputs": [],
   "source": [
    "with database:\n",
    "    Category(name = 'Standalone').save() # Object"
   ]
  },
  {
   "cell_type": "code",
   "execution_count": null,
   "metadata": {},
   "outputs": [],
   "source": [
    "with database:\n",
    "    q= Category.insert(name = 'Others') # Querry\n",
    "    q.execute()"
   ]
  },
  {
   "cell_type": "code",
   "execution_count": null,
   "metadata": {},
   "outputs": [],
   "source": [
    "categories_data = [\n",
    "    dict(name='Books', description='Papers books.'),\n",
    "    dict(name='Electronic Books', description='Web books.'),\n",
    "    dict(name='Mashines', description='Printers,scanets, ect.'),\n",
    "    dict(name='Pens', description='Pencils and pens')\n",
    "]\n",
    "with database: \n",
    "    for line in categories_data:\n",
    "        Category.create(**line) # create in loop"
   ]
  },
  {
   "cell_type": "code",
   "execution_count": null,
   "metadata": {},
   "outputs": [],
   "source": [
    "categories_data = [\n",
    "    dict(name='Books2', description='Papers books v2.'),\n",
    "    dict(name='Electronic_Books2', description='Web books v2.'),\n",
    "    dict(name='Mashines2', description='Printers,scanets, ect v2.'),\n",
    "    dict(name='Pens2', description='Pencils and pens v2')\n",
    "]\n",
    "with database:\n",
    "    q= Category.insert_many(categories_data,fields=[Category.name,Category.description]) #querry \n",
    "    q.execute()"
   ]
  },
  {
   "cell_type": "code",
   "execution_count": null,
   "metadata": {},
   "outputs": [],
   "source": [
    "categories_data = [\n",
    "    dict(name='Books3', description='Papers books v3.'),\n",
    "    dict(name='Electronic Books3', description='Web books v3.'),\n",
    "    dict(name='Mashines3', description='Printers,scanets, ect v3.'),\n",
    "    dict(name='Pens3', description='Pencils and pens v3')\n",
    "]\n",
    "with database.atomic():\n",
    "    for line in categories_data:\n",
    "        Category.create(**line) # create in loop as one transaction"
   ]
  },
  {
   "cell_type": "code",
   "execution_count": null,
   "metadata": {},
   "outputs": [],
   "source": [
    "with database:\n",
    "    books = Category.get(Category.name == 'Books')\n",
    "    Product.create(name='The economist', price=100, category=books)\n"
   ]
  },
  {
   "cell_type": "code",
   "execution_count": null,
   "metadata": {},
   "outputs": [],
   "source": [
    "names= ['Journal','Thermodinamics','Kinetic']\n",
    "with database:\n",
    "    books = Category.get(Category.name == 'Books')\n",
    "    for name in names:\n",
    "        Product.create(name=name, price=100, category=books)\n"
   ]
  },
  {
   "cell_type": "code",
   "execution_count": null,
   "metadata": {},
   "outputs": [],
   "source": [
    "names = ['Scanner', 'Printer', 'Cartridge', 'Pad']\n",
    "\n",
    "[{'name': name, 'category': 1, 'price': 20-len(name)} for name in names]\n"
   ]
  },
  {
   "cell_type": "code",
   "execution_count": null,
   "metadata": {},
   "outputs": [],
   "source": [
    "with database:\n",
    "    maschines = Category.get(name='Mashines')\n",
    "    data = [{\n",
    "        'name': name, 'category': maschines, 'price': 20*10 - len(name)*10\n",
    "    } for name in names]\n",
    "    Product.insert_many(\n",
    "        data,\n",
    "        fields=[Product.name, Product.category, Product.price],\n",
    "    ).execute()\n"
   ]
  },
  {
   "cell_type": "markdown",
   "metadata": {},
   "source": [
    "# R"
   ]
  },
  {
   "cell_type": "code",
   "execution_count": null,
   "metadata": {},
   "outputs": [],
   "source": [
    "#querry automatic use q.execute() in for\n",
    "with database:\n",
    "    q = Category.select()\n",
    "\n",
    "for line in q: \n",
    "    print(line.id,line.name,)"
   ]
  },
  {
   "cell_type": "code",
   "execution_count": null,
   "metadata": {},
   "outputs": [],
   "source": [
    "# strange behavior\n",
    "with database:\n",
    "    p = Category.get(Category.id>3)\n",
    "    \n",
    "print(p.id,p.name)\n",
    "# for i in p:\n",
    "#     print(p.id)"
   ]
  },
  {
   "cell_type": "code",
   "execution_count": null,
   "metadata": {},
   "outputs": [],
   "source": [
    "# 1+n problem selection\n",
    "with database:\n",
    "    q = Product.select()\n",
    "    q = q.execute()\n",
    "print(q)\n",
    "print(list(q)[5].id)\n",
    "\n",
    "\n",
    "for line in q:\n",
    "    print('{0:2} {1:.<30} {2:>4.0f} | {3: <10}'.format(line.id,\n",
    "                                                    line.name,\n",
    "                                                    line.price,\n",
    "                                                    line.category.name)) # 1+n problem"
   ]
  },
  {
   "cell_type": "code",
   "execution_count": 3,
   "metadata": {},
   "outputs": [
    {
     "name": "stdout",
     "output_type": "stream",
     "text": [
      "SELECT `t1`.`id`, `t1`.`name`, `t1`.`price`, `t2`.`name` FROM `Products` AS `t1` INNER JOIN `Categories` AS `t2` ON (`t1`.`category_id` = `t2`.`id`)\n"
     ]
    },
    {
     "ename": "ProgrammingError",
     "evalue": "(1146, \"Table 'orm.products' doesn't exist\")",
     "output_type": "error",
     "traceback": [
      "\u001b[1;31m---------------------------------------------------------------------------\u001b[0m",
      "\u001b[1;31mProgrammingError\u001b[0m                          Traceback (most recent call last)",
      "File \u001b[1;32mc:\\Python38\\lib\\site-packages\\peewee.py:3237\u001b[0m, in \u001b[0;36mDatabase.execute_sql\u001b[1;34m(self, sql, params, commit)\u001b[0m\n\u001b[0;32m   3236\u001b[0m \u001b[39mtry\u001b[39;00m:\n\u001b[1;32m-> 3237\u001b[0m     cursor\u001b[39m.\u001b[39;49mexecute(sql, params \u001b[39mor\u001b[39;49;00m ())\n\u001b[0;32m   3238\u001b[0m \u001b[39mexcept\u001b[39;00m \u001b[39mException\u001b[39;00m:\n",
      "File \u001b[1;32mc:\\Python38\\lib\\site-packages\\pymysql\\cursors.py:148\u001b[0m, in \u001b[0;36mCursor.execute\u001b[1;34m(self, query, args)\u001b[0m\n\u001b[0;32m    146\u001b[0m query \u001b[39m=\u001b[39m \u001b[39mself\u001b[39m\u001b[39m.\u001b[39mmogrify(query, args)\n\u001b[1;32m--> 148\u001b[0m result \u001b[39m=\u001b[39m \u001b[39mself\u001b[39;49m\u001b[39m.\u001b[39;49m_query(query)\n\u001b[0;32m    149\u001b[0m \u001b[39mself\u001b[39m\u001b[39m.\u001b[39m_executed \u001b[39m=\u001b[39m query\n",
      "File \u001b[1;32mc:\\Python38\\lib\\site-packages\\pymysql\\cursors.py:310\u001b[0m, in \u001b[0;36mCursor._query\u001b[1;34m(self, q)\u001b[0m\n\u001b[0;32m    309\u001b[0m \u001b[39mself\u001b[39m\u001b[39m.\u001b[39m_clear_result()\n\u001b[1;32m--> 310\u001b[0m conn\u001b[39m.\u001b[39;49mquery(q)\n\u001b[0;32m    311\u001b[0m \u001b[39mself\u001b[39m\u001b[39m.\u001b[39m_do_get_result()\n",
      "File \u001b[1;32mc:\\Python38\\lib\\site-packages\\pymysql\\connections.py:548\u001b[0m, in \u001b[0;36mConnection.query\u001b[1;34m(self, sql, unbuffered)\u001b[0m\n\u001b[0;32m    547\u001b[0m \u001b[39mself\u001b[39m\u001b[39m.\u001b[39m_execute_command(COMMAND\u001b[39m.\u001b[39mCOM_QUERY, sql)\n\u001b[1;32m--> 548\u001b[0m \u001b[39mself\u001b[39m\u001b[39m.\u001b[39m_affected_rows \u001b[39m=\u001b[39m \u001b[39mself\u001b[39;49m\u001b[39m.\u001b[39;49m_read_query_result(unbuffered\u001b[39m=\u001b[39;49munbuffered)\n\u001b[0;32m    549\u001b[0m \u001b[39mreturn\u001b[39;00m \u001b[39mself\u001b[39m\u001b[39m.\u001b[39m_affected_rows\n",
      "File \u001b[1;32mc:\\Python38\\lib\\site-packages\\pymysql\\connections.py:775\u001b[0m, in \u001b[0;36mConnection._read_query_result\u001b[1;34m(self, unbuffered)\u001b[0m\n\u001b[0;32m    774\u001b[0m     result \u001b[39m=\u001b[39m MySQLResult(\u001b[39mself\u001b[39m)\n\u001b[1;32m--> 775\u001b[0m     result\u001b[39m.\u001b[39;49mread()\n\u001b[0;32m    776\u001b[0m \u001b[39mself\u001b[39m\u001b[39m.\u001b[39m_result \u001b[39m=\u001b[39m result\n",
      "File \u001b[1;32mc:\\Python38\\lib\\site-packages\\pymysql\\connections.py:1156\u001b[0m, in \u001b[0;36mMySQLResult.read\u001b[1;34m(self)\u001b[0m\n\u001b[0;32m   1155\u001b[0m \u001b[39mtry\u001b[39;00m:\n\u001b[1;32m-> 1156\u001b[0m     first_packet \u001b[39m=\u001b[39m \u001b[39mself\u001b[39;49m\u001b[39m.\u001b[39;49mconnection\u001b[39m.\u001b[39;49m_read_packet()\n\u001b[0;32m   1158\u001b[0m     \u001b[39mif\u001b[39;00m first_packet\u001b[39m.\u001b[39mis_ok_packet():\n",
      "File \u001b[1;32mc:\\Python38\\lib\\site-packages\\pymysql\\connections.py:725\u001b[0m, in \u001b[0;36mConnection._read_packet\u001b[1;34m(self, packet_type)\u001b[0m\n\u001b[0;32m    724\u001b[0m         \u001b[39mself\u001b[39m\u001b[39m.\u001b[39m_result\u001b[39m.\u001b[39munbuffered_active \u001b[39m=\u001b[39m \u001b[39mFalse\u001b[39;00m\n\u001b[1;32m--> 725\u001b[0m     packet\u001b[39m.\u001b[39;49mraise_for_error()\n\u001b[0;32m    726\u001b[0m \u001b[39mreturn\u001b[39;00m packet\n",
      "File \u001b[1;32mc:\\Python38\\lib\\site-packages\\pymysql\\protocol.py:221\u001b[0m, in \u001b[0;36mMysqlPacket.raise_for_error\u001b[1;34m(self)\u001b[0m\n\u001b[0;32m    220\u001b[0m     \u001b[39mprint\u001b[39m(\u001b[39m\"\u001b[39m\u001b[39merrno =\u001b[39m\u001b[39m\"\u001b[39m, errno)\n\u001b[1;32m--> 221\u001b[0m err\u001b[39m.\u001b[39;49mraise_mysql_exception(\u001b[39mself\u001b[39;49m\u001b[39m.\u001b[39;49m_data)\n",
      "File \u001b[1;32mc:\\Python38\\lib\\site-packages\\pymysql\\err.py:143\u001b[0m, in \u001b[0;36mraise_mysql_exception\u001b[1;34m(data)\u001b[0m\n\u001b[0;32m    142\u001b[0m     errorclass \u001b[39m=\u001b[39m InternalError \u001b[39mif\u001b[39;00m errno \u001b[39m<\u001b[39m \u001b[39m1000\u001b[39m \u001b[39melse\u001b[39;00m OperationalError\n\u001b[1;32m--> 143\u001b[0m \u001b[39mraise\u001b[39;00m errorclass(errno, errval)\n",
      "\u001b[1;31mProgrammingError\u001b[0m: (1146, \"Table 'orm.products' doesn't exist\")",
      "\nDuring handling of the above exception, another exception occurred:\n",
      "\u001b[1;31mProgrammingError\u001b[0m                          Traceback (most recent call last)",
      "\u001b[1;32md:\\WORKS\\Python-Tests\\SQL\\peewee\\interact.ipynb Cell 17\u001b[0m in \u001b[0;36m<cell line: 2>\u001b[1;34m()\u001b[0m\n\u001b[0;32m      <a href='vscode-notebook-cell:/d%3A/WORKS/Python-Tests/SQL/peewee/interact.ipynb#X23sZmlsZQ%3D%3D?line=2'>3</a>\u001b[0m     q \u001b[39m=\u001b[39m Product\u001b[39m.\u001b[39mselect(Product\u001b[39m.\u001b[39mid,Product\u001b[39m.\u001b[39mname,Product\u001b[39m.\u001b[39mprice,Category\u001b[39m.\u001b[39mname)\u001b[39m.\u001b[39mjoin(Category)\n\u001b[0;32m      <a href='vscode-notebook-cell:/d%3A/WORKS/Python-Tests/SQL/peewee/interact.ipynb#X23sZmlsZQ%3D%3D?line=3'>4</a>\u001b[0m     \u001b[39mprint\u001b[39m(q)\n\u001b[1;32m----> <a href='vscode-notebook-cell:/d%3A/WORKS/Python-Tests/SQL/peewee/interact.ipynb#X23sZmlsZQ%3D%3D?line=4'>5</a>\u001b[0m     q \u001b[39m=\u001b[39m q\u001b[39m.\u001b[39;49mexecute()\n\u001b[0;32m      <a href='vscode-notebook-cell:/d%3A/WORKS/Python-Tests/SQL/peewee/interact.ipynb#X23sZmlsZQ%3D%3D?line=5'>6</a>\u001b[0m \u001b[39mprint\u001b[39m(\u001b[39mlist\u001b[39m(q)[\u001b[39m5\u001b[39m]\u001b[39m.\u001b[39mid)\n\u001b[0;32m      <a href='vscode-notebook-cell:/d%3A/WORKS/Python-Tests/SQL/peewee/interact.ipynb#X23sZmlsZQ%3D%3D?line=7'>8</a>\u001b[0m \u001b[39mfor\u001b[39;00m line \u001b[39min\u001b[39;00m q:\n",
      "File \u001b[1;32mc:\\Python38\\lib\\site-packages\\peewee.py:1962\u001b[0m, in \u001b[0;36mdatabase_required.<locals>.inner\u001b[1;34m(self, database, *args, **kwargs)\u001b[0m\n\u001b[0;32m   1959\u001b[0m \u001b[39mif\u001b[39;00m \u001b[39mnot\u001b[39;00m database:\n\u001b[0;32m   1960\u001b[0m     \u001b[39mraise\u001b[39;00m InterfaceError(\u001b[39m'\u001b[39m\u001b[39mQuery must be bound to a database in order \u001b[39m\u001b[39m'\u001b[39m\n\u001b[0;32m   1961\u001b[0m                          \u001b[39m'\u001b[39m\u001b[39mto call \u001b[39m\u001b[39m\"\u001b[39m\u001b[39m%s\u001b[39;00m\u001b[39m\"\u001b[39m\u001b[39m.\u001b[39m\u001b[39m'\u001b[39m \u001b[39m%\u001b[39m method\u001b[39m.\u001b[39m\u001b[39m__name__\u001b[39m)\n\u001b[1;32m-> 1962\u001b[0m \u001b[39mreturn\u001b[39;00m method(\u001b[39mself\u001b[39;49m, database, \u001b[39m*\u001b[39;49margs, \u001b[39m*\u001b[39;49m\u001b[39m*\u001b[39;49mkwargs)\n",
      "File \u001b[1;32mc:\\Python38\\lib\\site-packages\\peewee.py:2033\u001b[0m, in \u001b[0;36mBaseQuery.execute\u001b[1;34m(self, database)\u001b[0m\n\u001b[0;32m   2031\u001b[0m \u001b[39m@database_required\u001b[39m\n\u001b[0;32m   2032\u001b[0m \u001b[39mdef\u001b[39;00m \u001b[39mexecute\u001b[39m(\u001b[39mself\u001b[39m, database):\n\u001b[1;32m-> 2033\u001b[0m     \u001b[39mreturn\u001b[39;00m \u001b[39mself\u001b[39;49m\u001b[39m.\u001b[39;49m_execute(database)\n",
      "File \u001b[1;32mc:\\Python38\\lib\\site-packages\\peewee.py:2206\u001b[0m, in \u001b[0;36mSelectBase._execute\u001b[1;34m(self, database)\u001b[0m\n\u001b[0;32m   2204\u001b[0m \u001b[39mdef\u001b[39;00m \u001b[39m_execute\u001b[39m(\u001b[39mself\u001b[39m, database):\n\u001b[0;32m   2205\u001b[0m     \u001b[39mif\u001b[39;00m \u001b[39mself\u001b[39m\u001b[39m.\u001b[39m_cursor_wrapper \u001b[39mis\u001b[39;00m \u001b[39mNone\u001b[39;00m:\n\u001b[1;32m-> 2206\u001b[0m         cursor \u001b[39m=\u001b[39m database\u001b[39m.\u001b[39;49mexecute(\u001b[39mself\u001b[39;49m)\n\u001b[0;32m   2207\u001b[0m         \u001b[39mself\u001b[39m\u001b[39m.\u001b[39m_cursor_wrapper \u001b[39m=\u001b[39m \u001b[39mself\u001b[39m\u001b[39m.\u001b[39m_get_cursor_wrapper(cursor)\n\u001b[0;32m   2208\u001b[0m     \u001b[39mreturn\u001b[39;00m \u001b[39mself\u001b[39m\u001b[39m.\u001b[39m_cursor_wrapper\n",
      "File \u001b[1;32mc:\\Python38\\lib\\site-packages\\peewee.py:3250\u001b[0m, in \u001b[0;36mDatabase.execute\u001b[1;34m(self, query, commit, **context_options)\u001b[0m\n\u001b[0;32m   3248\u001b[0m ctx \u001b[39m=\u001b[39m \u001b[39mself\u001b[39m\u001b[39m.\u001b[39mget_sql_context(\u001b[39m*\u001b[39m\u001b[39m*\u001b[39mcontext_options)\n\u001b[0;32m   3249\u001b[0m sql, params \u001b[39m=\u001b[39m ctx\u001b[39m.\u001b[39msql(query)\u001b[39m.\u001b[39mquery()\n\u001b[1;32m-> 3250\u001b[0m \u001b[39mreturn\u001b[39;00m \u001b[39mself\u001b[39;49m\u001b[39m.\u001b[39;49mexecute_sql(sql, params, commit\u001b[39m=\u001b[39;49mcommit)\n",
      "File \u001b[1;32mc:\\Python38\\lib\\site-packages\\peewee.py:3244\u001b[0m, in \u001b[0;36mDatabase.execute_sql\u001b[1;34m(self, sql, params, commit)\u001b[0m\n\u001b[0;32m   3242\u001b[0m     \u001b[39melse\u001b[39;00m:\n\u001b[0;32m   3243\u001b[0m         \u001b[39mif\u001b[39;00m commit \u001b[39mand\u001b[39;00m \u001b[39mnot\u001b[39;00m \u001b[39mself\u001b[39m\u001b[39m.\u001b[39min_transaction():\n\u001b[1;32m-> 3244\u001b[0m             \u001b[39mself\u001b[39m\u001b[39m.\u001b[39mcommit()\n\u001b[0;32m   3245\u001b[0m \u001b[39mreturn\u001b[39;00m cursor\n",
      "File \u001b[1;32mc:\\Python38\\lib\\site-packages\\peewee.py:3010\u001b[0m, in \u001b[0;36mExceptionWrapper.__exit__\u001b[1;34m(self, exc_type, exc_value, traceback)\u001b[0m\n\u001b[0;32m   3008\u001b[0m new_type \u001b[39m=\u001b[39m \u001b[39mself\u001b[39m\u001b[39m.\u001b[39mexceptions[exc_type\u001b[39m.\u001b[39m\u001b[39m__name__\u001b[39m]\n\u001b[0;32m   3009\u001b[0m exc_args \u001b[39m=\u001b[39m exc_value\u001b[39m.\u001b[39margs\n\u001b[1;32m-> 3010\u001b[0m reraise(new_type, new_type(exc_value, \u001b[39m*\u001b[39;49mexc_args), traceback)\n",
      "File \u001b[1;32mc:\\Python38\\lib\\site-packages\\peewee.py:192\u001b[0m, in \u001b[0;36mreraise\u001b[1;34m(tp, value, tb)\u001b[0m\n\u001b[0;32m    190\u001b[0m \u001b[39mdef\u001b[39;00m \u001b[39mreraise\u001b[39m(tp, value, tb\u001b[39m=\u001b[39m\u001b[39mNone\u001b[39;00m):\n\u001b[0;32m    191\u001b[0m     \u001b[39mif\u001b[39;00m value\u001b[39m.\u001b[39m__traceback__ \u001b[39mis\u001b[39;00m \u001b[39mnot\u001b[39;00m tb:\n\u001b[1;32m--> 192\u001b[0m         \u001b[39mraise\u001b[39;00m value\u001b[39m.\u001b[39mwith_traceback(tb)\n\u001b[0;32m    193\u001b[0m     \u001b[39mraise\u001b[39;00m value\n",
      "File \u001b[1;32mc:\\Python38\\lib\\site-packages\\peewee.py:3237\u001b[0m, in \u001b[0;36mDatabase.execute_sql\u001b[1;34m(self, sql, params, commit)\u001b[0m\n\u001b[0;32m   3235\u001b[0m cursor \u001b[39m=\u001b[39m \u001b[39mself\u001b[39m\u001b[39m.\u001b[39mcursor(commit)\n\u001b[0;32m   3236\u001b[0m \u001b[39mtry\u001b[39;00m:\n\u001b[1;32m-> 3237\u001b[0m     cursor\u001b[39m.\u001b[39;49mexecute(sql, params \u001b[39mor\u001b[39;49;00m ())\n\u001b[0;32m   3238\u001b[0m \u001b[39mexcept\u001b[39;00m \u001b[39mException\u001b[39;00m:\n\u001b[0;32m   3239\u001b[0m     \u001b[39mif\u001b[39;00m \u001b[39mself\u001b[39m\u001b[39m.\u001b[39mautorollback \u001b[39mand\u001b[39;00m \u001b[39mnot\u001b[39;00m \u001b[39mself\u001b[39m\u001b[39m.\u001b[39min_transaction():\n",
      "File \u001b[1;32mc:\\Python38\\lib\\site-packages\\pymysql\\cursors.py:148\u001b[0m, in \u001b[0;36mCursor.execute\u001b[1;34m(self, query, args)\u001b[0m\n\u001b[0;32m    144\u001b[0m     \u001b[39mpass\u001b[39;00m\n\u001b[0;32m    146\u001b[0m query \u001b[39m=\u001b[39m \u001b[39mself\u001b[39m\u001b[39m.\u001b[39mmogrify(query, args)\n\u001b[1;32m--> 148\u001b[0m result \u001b[39m=\u001b[39m \u001b[39mself\u001b[39;49m\u001b[39m.\u001b[39;49m_query(query)\n\u001b[0;32m    149\u001b[0m \u001b[39mself\u001b[39m\u001b[39m.\u001b[39m_executed \u001b[39m=\u001b[39m query\n\u001b[0;32m    150\u001b[0m \u001b[39mreturn\u001b[39;00m result\n",
      "File \u001b[1;32mc:\\Python38\\lib\\site-packages\\pymysql\\cursors.py:310\u001b[0m, in \u001b[0;36mCursor._query\u001b[1;34m(self, q)\u001b[0m\n\u001b[0;32m    308\u001b[0m \u001b[39mself\u001b[39m\u001b[39m.\u001b[39m_last_executed \u001b[39m=\u001b[39m q\n\u001b[0;32m    309\u001b[0m \u001b[39mself\u001b[39m\u001b[39m.\u001b[39m_clear_result()\n\u001b[1;32m--> 310\u001b[0m conn\u001b[39m.\u001b[39;49mquery(q)\n\u001b[0;32m    311\u001b[0m \u001b[39mself\u001b[39m\u001b[39m.\u001b[39m_do_get_result()\n\u001b[0;32m    312\u001b[0m \u001b[39mreturn\u001b[39;00m \u001b[39mself\u001b[39m\u001b[39m.\u001b[39mrowcount\n",
      "File \u001b[1;32mc:\\Python38\\lib\\site-packages\\pymysql\\connections.py:548\u001b[0m, in \u001b[0;36mConnection.query\u001b[1;34m(self, sql, unbuffered)\u001b[0m\n\u001b[0;32m    546\u001b[0m     sql \u001b[39m=\u001b[39m sql\u001b[39m.\u001b[39mencode(\u001b[39mself\u001b[39m\u001b[39m.\u001b[39mencoding, \u001b[39m\"\u001b[39m\u001b[39msurrogateescape\u001b[39m\u001b[39m\"\u001b[39m)\n\u001b[0;32m    547\u001b[0m \u001b[39mself\u001b[39m\u001b[39m.\u001b[39m_execute_command(COMMAND\u001b[39m.\u001b[39mCOM_QUERY, sql)\n\u001b[1;32m--> 548\u001b[0m \u001b[39mself\u001b[39m\u001b[39m.\u001b[39m_affected_rows \u001b[39m=\u001b[39m \u001b[39mself\u001b[39;49m\u001b[39m.\u001b[39;49m_read_query_result(unbuffered\u001b[39m=\u001b[39;49munbuffered)\n\u001b[0;32m    549\u001b[0m \u001b[39mreturn\u001b[39;00m \u001b[39mself\u001b[39m\u001b[39m.\u001b[39m_affected_rows\n",
      "File \u001b[1;32mc:\\Python38\\lib\\site-packages\\pymysql\\connections.py:775\u001b[0m, in \u001b[0;36mConnection._read_query_result\u001b[1;34m(self, unbuffered)\u001b[0m\n\u001b[0;32m    773\u001b[0m \u001b[39melse\u001b[39;00m:\n\u001b[0;32m    774\u001b[0m     result \u001b[39m=\u001b[39m MySQLResult(\u001b[39mself\u001b[39m)\n\u001b[1;32m--> 775\u001b[0m     result\u001b[39m.\u001b[39;49mread()\n\u001b[0;32m    776\u001b[0m \u001b[39mself\u001b[39m\u001b[39m.\u001b[39m_result \u001b[39m=\u001b[39m result\n\u001b[0;32m    777\u001b[0m \u001b[39mif\u001b[39;00m result\u001b[39m.\u001b[39mserver_status \u001b[39mis\u001b[39;00m \u001b[39mnot\u001b[39;00m \u001b[39mNone\u001b[39;00m:\n",
      "File \u001b[1;32mc:\\Python38\\lib\\site-packages\\pymysql\\connections.py:1156\u001b[0m, in \u001b[0;36mMySQLResult.read\u001b[1;34m(self)\u001b[0m\n\u001b[0;32m   1154\u001b[0m \u001b[39mdef\u001b[39;00m \u001b[39mread\u001b[39m(\u001b[39mself\u001b[39m):\n\u001b[0;32m   1155\u001b[0m     \u001b[39mtry\u001b[39;00m:\n\u001b[1;32m-> 1156\u001b[0m         first_packet \u001b[39m=\u001b[39m \u001b[39mself\u001b[39;49m\u001b[39m.\u001b[39;49mconnection\u001b[39m.\u001b[39;49m_read_packet()\n\u001b[0;32m   1158\u001b[0m         \u001b[39mif\u001b[39;00m first_packet\u001b[39m.\u001b[39mis_ok_packet():\n\u001b[0;32m   1159\u001b[0m             \u001b[39mself\u001b[39m\u001b[39m.\u001b[39m_read_ok_packet(first_packet)\n",
      "File \u001b[1;32mc:\\Python38\\lib\\site-packages\\pymysql\\connections.py:725\u001b[0m, in \u001b[0;36mConnection._read_packet\u001b[1;34m(self, packet_type)\u001b[0m\n\u001b[0;32m    723\u001b[0m     \u001b[39mif\u001b[39;00m \u001b[39mself\u001b[39m\u001b[39m.\u001b[39m_result \u001b[39mis\u001b[39;00m \u001b[39mnot\u001b[39;00m \u001b[39mNone\u001b[39;00m \u001b[39mand\u001b[39;00m \u001b[39mself\u001b[39m\u001b[39m.\u001b[39m_result\u001b[39m.\u001b[39munbuffered_active \u001b[39mis\u001b[39;00m \u001b[39mTrue\u001b[39;00m:\n\u001b[0;32m    724\u001b[0m         \u001b[39mself\u001b[39m\u001b[39m.\u001b[39m_result\u001b[39m.\u001b[39munbuffered_active \u001b[39m=\u001b[39m \u001b[39mFalse\u001b[39;00m\n\u001b[1;32m--> 725\u001b[0m     packet\u001b[39m.\u001b[39;49mraise_for_error()\n\u001b[0;32m    726\u001b[0m \u001b[39mreturn\u001b[39;00m packet\n",
      "File \u001b[1;32mc:\\Python38\\lib\\site-packages\\pymysql\\protocol.py:221\u001b[0m, in \u001b[0;36mMysqlPacket.raise_for_error\u001b[1;34m(self)\u001b[0m\n\u001b[0;32m    219\u001b[0m \u001b[39mif\u001b[39;00m DEBUG:\n\u001b[0;32m    220\u001b[0m     \u001b[39mprint\u001b[39m(\u001b[39m\"\u001b[39m\u001b[39merrno =\u001b[39m\u001b[39m\"\u001b[39m, errno)\n\u001b[1;32m--> 221\u001b[0m err\u001b[39m.\u001b[39;49mraise_mysql_exception(\u001b[39mself\u001b[39;49m\u001b[39m.\u001b[39;49m_data)\n",
      "File \u001b[1;32mc:\\Python38\\lib\\site-packages\\pymysql\\err.py:143\u001b[0m, in \u001b[0;36mraise_mysql_exception\u001b[1;34m(data)\u001b[0m\n\u001b[0;32m    141\u001b[0m \u001b[39mif\u001b[39;00m errorclass \u001b[39mis\u001b[39;00m \u001b[39mNone\u001b[39;00m:\n\u001b[0;32m    142\u001b[0m     errorclass \u001b[39m=\u001b[39m InternalError \u001b[39mif\u001b[39;00m errno \u001b[39m<\u001b[39m \u001b[39m1000\u001b[39m \u001b[39melse\u001b[39;00m OperationalError\n\u001b[1;32m--> 143\u001b[0m \u001b[39mraise\u001b[39;00m errorclass(errno, errval)\n",
      "\u001b[1;31mProgrammingError\u001b[0m: (1146, \"Table 'orm.products' doesn't exist\")"
     ]
    }
   ],
   "source": [
    "# Solving 1+n problem selection\n",
    "with database:\n",
    "    q = Product.select(Product.id,Product.name,Product.price,Category.name).join(Category)\n",
    "    print(q)\n",
    "    q = q.execute()\n",
    "print(list(q)[5].id)\n",
    "\n",
    "for line in q:\n",
    "    # print(line.name)\n",
    "    # print('{0:2} {1:.<30} {2:>4.0f} | {3: <10}'.format(line.id,\n",
    "    #                                                 line.name,\n",
    "    #                                                 line.price,\n",
    "    #                                                 line.category.name))"
   ]
  },
  {
   "cell_type": "code",
   "execution_count": null,
   "metadata": {},
   "outputs": [],
   "source": [
    "# Solving 1+n w/o object\n",
    "with database:\n",
    "    q = Product.select(Product,Category).join(Category)\n",
    "    \n"
   ]
  },
  {
   "cell_type": "code",
   "execution_count": 6,
   "metadata": {},
   "outputs": [
    {
     "name": "stdout",
     "output_type": "stream",
     "text": [
      "VIP 0\n",
      "VIP 0\n",
      "Standalone 0\n",
      "Othersadde 0\n",
      "Books 4\n",
      "Electronic 0\n",
      "Mashines 8\n",
      "Pens 0\n",
      "Books2 0\n",
      "Electronic 0\n",
      "Mashines2 0\n",
      "Pens2 0\n",
      "Books2 0\n",
      "Electronic 0\n",
      "Mashines2 0\n",
      "Pens2 0\n"
     ]
    }
   ],
   "source": [
    "# 1+n count group by\n",
    "with database:\n",
    "    for cat in Category.select():\n",
    "        print(cat.name,Product.select().where(Product.category_id == cat).count())\n",
    "\n",
    "# with database:\n",
    "#     for cat in Category.select():\n",
    "#         for i in Product.select().where(Product.category_id == cat):\n",
    "#             print(i.name)\n",
    "#         print('{0:.^20}'.format('Empty'))"
   ]
  },
  {
   "cell_type": "code",
   "execution_count": 27,
   "metadata": {},
   "outputs": [
    {
     "name": "stdout",
     "output_type": "stream",
     "text": [
      "SELECT `t1`.`name`, count(`t2`.`id`) AS `num` FROM `Categories` AS `t1` INNER JOIN `product` AS `t2` ON (`t2`.`category_id` = `t1`.`id`) GROUP BY `t1`.`id`, `t1`.`name`, `t1`.`description`\n",
      "Books\n"
     ]
    }
   ],
   "source": [
    "# solving 1+n count group by\n",
    "with database:\n",
    "    q = (Category\n",
    "        .select(Category.name, pe.fn.count(Product.id).alias('num'))\n",
    "        .join(Product)\n",
    "        .group_by(Category))\n",
    "    print(q)\n",
    "q = q.execute()\n",
    "print(list(q)[0].name)\n",
    "\n",
    "for line in q:\n",
    "    print(line.name,line.num)"
   ]
  },
  {
   "cell_type": "code",
   "execution_count": 13,
   "metadata": {},
   "outputs": [
    {
     "name": "stdout",
     "output_type": "stream",
     "text": [
      "SELECT `t1`.`id`, `t1`.`name`, `t1`.`description` FROM `Categories` AS `t1`\n",
      "VIP\n"
     ]
    }
   ],
   "source": [
    "with database:\n",
    "    q= Category.select()\n",
    "    print(q)\n",
    "    q.prefetch(Product)\n",
    "print(q[0].name)\n",
    "\n",
    "for line in q:\n",
    "    print(line.name)\n",
    "    for prod in line.fk_category:\n",
    "        print(' *',prod.name)"
   ]
  },
  {
   "cell_type": "code",
   "execution_count": 7,
   "metadata": {},
   "outputs": [
    {
     "data": {
      "text/plain": [
       "[{'id': 1, 'name': 'VIP', 'description': 'Unique things'},\n",
       " {'id': 2, 'name': 'VIP', 'description': 'Unique things'},\n",
       " {'id': 3, 'name': 'Standalone', 'description': ''},\n",
       " {'id': 4, 'name': 'Othersadde', 'description': ''},\n",
       " {'id': 5, 'name': 'Books', 'description': 'Papers books.'},\n",
       " {'id': 6, 'name': 'Electronic', 'description': 'Web books.'},\n",
       " {'id': 7, 'name': 'Mashines', 'description': 'Printers,scanets, ect.'},\n",
       " {'id': 8, 'name': 'Pens', 'description': 'Pencils and pens'},\n",
       " {'id': 9, 'name': 'Books2', 'description': 'Papers books v2.'},\n",
       " {'id': 10, 'name': 'Electronic', 'description': 'Web books v2.'},\n",
       " {'id': 11, 'name': 'Mashines2', 'description': 'Printers,scanets, ect v2.'},\n",
       " {'id': 12, 'name': 'Pens2', 'description': 'Pencils and pens v2'},\n",
       " {'id': 13, 'name': 'Books2', 'description': 'Papers books v2.'},\n",
       " {'id': 14, 'name': 'Electronic', 'description': 'Web books v2.'},\n",
       " {'id': 15, 'name': 'Mashines2', 'description': 'Printers,scanets, ect v2.'},\n",
       " {'id': 16, 'name': 'Pens2', 'description': 'Pencils and pens v2'}]"
      ]
     },
     "execution_count": 7,
     "metadata": {},
     "output_type": "execute_result"
    }
   ],
   "source": [
    "# Dicts(), namedtuples(), tuples(), dicts() \n",
    "with database:\n",
    "    q= Category.select().dicts() \n",
    "list(q)"
   ]
  },
  {
   "cell_type": "markdown",
   "metadata": {},
   "source": [
    "# U"
   ]
  },
  {
   "cell_type": "code",
   "execution_count": null,
   "metadata": {},
   "outputs": [],
   "source": [
    "with database:\n",
    "    cat = Category.get_by_id(4) \n",
    "    cat.name +='added'\n",
    "    cat.save()  #Update object\n",
    "    print(cat.name)"
   ]
  },
  {
   "cell_type": "code",
   "execution_count": null,
   "metadata": {},
   "outputs": [],
   "source": [
    "with database:\n",
    "    q= Category.update(name = 'unknown').where(Category.id>16) # update querry\n",
    "    q.execute()"
   ]
  },
  {
   "cell_type": "markdown",
   "metadata": {},
   "source": [
    "# D"
   ]
  },
  {
   "cell_type": "code",
   "execution_count": null,
   "metadata": {},
   "outputs": [],
   "source": [
    "with database:\n",
    "    q= Category.delete().where(Category.name =='unknown' ) #querry\n",
    "    q.execute()"
   ]
  },
  {
   "cell_type": "markdown",
   "metadata": {},
   "source": [
    "# M"
   ]
  },
  {
   "cell_type": "markdown",
   "metadata": {},
   "source": [
    "# Tests"
   ]
  },
  {
   "cell_type": "code",
   "execution_count": null,
   "metadata": {},
   "outputs": [],
   "source": [
    "with database:\n",
    "    q1 = Category.select()\n",
    "    q2= q1.where(Category.id >5)\n",
    "    q3 =q2.order_by(Category.name)\n",
    "    for line in q3:\n",
    "        print(line.id,line.name)"
   ]
  },
  {
   "cell_type": "code",
   "execution_count": null,
   "metadata": {},
   "outputs": [],
   "source": [
    "with database:\n",
    "    q = Category.select()\n",
    "    q2 = q.where(Category.id>3)\n",
    "    q3 = q2.execute()\n",
    "print(type(q))\n",
    "print(q)\n",
    "print('*'*40)\n",
    "print(type(q2))\n",
    "print(q2)\n",
    "print('*'*40)\n",
    "print(type(q3))\n",
    "print(q3)"
   ]
  },
  {
   "cell_type": "code",
   "execution_count": null,
   "metadata": {},
   "outputs": [],
   "source": [
    "with database:\n",
    "    q = Category.select()\n",
    "    q2 = q.name"
   ]
  }
 ],
 "metadata": {
  "kernelspec": {
   "display_name": "Python 3.8.0 64-bit",
   "language": "python",
   "name": "python3"
  },
  "language_info": {
   "codemirror_mode": {
    "name": "ipython",
    "version": 3
   },
   "file_extension": ".py",
   "mimetype": "text/x-python",
   "name": "python",
   "nbconvert_exporter": "python",
   "pygments_lexer": "ipython3",
   "version": "3.8.0"
  },
  "orig_nbformat": 4,
  "vscode": {
   "interpreter": {
    "hash": "9650cb4e16cdd4a8e8e2d128bf38d875813998db22a3c986335f89e0cb4d7bb2"
   }
  }
 },
 "nbformat": 4,
 "nbformat_minor": 2
}
