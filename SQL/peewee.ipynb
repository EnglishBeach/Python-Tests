{
 "cells": [
  {
   "cell_type": "code",
   "execution_count": 1,
   "metadata": {},
   "outputs": [],
   "source": [
    "import peewee as pe"
   ]
  },
  {
   "cell_type": "code",
   "execution_count": 2,
   "metadata": {},
   "outputs": [],
   "source": [
    "db = pe.MySQLDatabase(\n",
    "    'orm',\n",
    "    user='root',\n",
    "    password='',\n",
    ")"
   ]
  },
  {
   "cell_type": "code",
   "execution_count": 3,
   "metadata": {},
   "outputs": [],
   "source": [
    "class BaseModel(pe.Model):\n",
    "    class Meta:\n",
    "        database= db"
   ]
  },
  {
   "cell_type": "code",
   "execution_count": 4,
   "metadata": {},
   "outputs": [],
   "source": [
    "class Category(BaseModel):\n",
    "    id = pe.PrimaryKeyField\n",
    "    name = pe.CharField(100)\n",
    "\n",
    "    created_at = pe.DateTimeField(pe.datetime.datetime.now())\n",
    "    updated_at = pe.DateTimeField(pe.datetime.datetime.now())\n",
    "\n",
    "\n",
    "class Product(BaseModel):\n",
    "    id = pe.PrimaryKeyField(null=False)\n",
    "    name = pe.CharField(25)\n",
    "    price = pe.FloatField(default=None)\n",
    "    category = pe.ForeignKeyField(\n",
    "        Category,\n",
    "        related_name='fk_category',\n",
    "        to_field='id',\n",
    "        on_delete='cascade',\n",
    "        on_update='no action',\n",
    "    )\n",
    "    created_at = pe.DateTimeField(pe.datetime.datetime.now())\n",
    "    updated_at = pe.DateTimeField(pe.datetime.datetime.now())\n",
    "    \n"
   ]
  },
  {
   "cell_type": "code",
   "execution_count": 5,
   "metadata": {},
   "outputs": [],
   "source": [
    "db.connect()"
   ]
  },
  {
   "cell_type": "code",
   "execution_count": null,
   "metadata": {},
   "outputs": [],
   "source": [
    "Category.create_table()\n",
    "Product.create_table()"
   ]
  }
 ],
 "metadata": {
  "kernelspec": {
   "display_name": "Python 3.8.0 64-bit",
   "language": "python",
   "name": "python3"
  },
  "language_info": {
   "codemirror_mode": {
    "name": "ipython",
    "version": 3
   },
   "file_extension": ".py",
   "mimetype": "text/x-python",
   "name": "python",
   "nbconvert_exporter": "python",
   "pygments_lexer": "ipython3",
   "version": "3.8.0"
  },
  "orig_nbformat": 4,
  "vscode": {
   "interpreter": {
    "hash": "9650cb4e16cdd4a8e8e2d128bf38d875813998db22a3c986335f89e0cb4d7bb2"
   }
  }
 },
 "nbformat": 4,
 "nbformat_minor": 2
}
