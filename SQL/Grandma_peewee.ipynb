{
 "cells": [
  {
   "cell_type": "code",
   "execution_count": 1,
   "metadata": {},
   "outputs": [],
   "source": [
    "import peewee as pe"
   ]
  },
  {
   "cell_type": "code",
   "execution_count": 2,
   "metadata": {},
   "outputs": [],
   "source": [
    "db = pe.MySQLDatabase(\n",
    "    'orm',\n",
    "    user='root',\n",
    "    password='',\n",
    ")"
   ]
  },
  {
   "cell_type": "code",
   "execution_count": 3,
   "metadata": {},
   "outputs": [],
   "source": [
    "class Person(pe.Model):\n",
    "    name = pe.CharField()\n",
    "    birthday = pe.DateField()\n",
    "    is_relative = pe.BooleanField()\n",
    "\n",
    "    class Meta:\n",
    "        database = db\n",
    "\n",
    "\n",
    "class Pet(pe.Model):\n",
    "        \n",
    "    owner = pe.ForeignKeyField(Person, related_name='pets')\n",
    "    name = pe.CharField()\n",
    "    animal_type = pe.CharField()\n",
    "\n",
    "    class Meta:\n",
    "        database = db"
   ]
  },
  {
   "cell_type": "code",
   "execution_count": 4,
   "metadata": {},
   "outputs": [],
   "source": [
    "Person.create_table()\n",
    "Pet.create_table()\n",
    "from datetime import date\n",
    "bob1 = Person(name = 'Bob',birthday = date(1960,2,16),is_relative=True)\n",
    "bob1.save()\n",
    "\n",
    "grandma = Person.create(name = 'Grandma',birthday = date(1935,3,1),is_relative=True)\n",
    "herb = Person.create(name='Herb', birthday=date(1950, 5, 5), is_relative=False)\n",
    "\n",
    "grandma.name = 'Grandama L'\n",
    "grandma.save()\n",
    "\n",
    "bob_kitty = Pet.create(owner=bob1, name='Kitty', animal_type='cat')\n",
    "herb_fido = Pet.create(owner=herb, name='Fido', animal_type='dog')\n",
    "herb_mittens = Pet.create(owner=herb, name='Mittens', animal_type='cat')\n",
    "herb_mittens_jr = Pet.create(owner=herb, name='Mittens Jr', animal_type='cat')\n",
    "\n",
    "herb_mittens.delete_instance()\n",
    "herb_fido.owner  = bob1\n",
    "\n",
    "herb_fido.save()\n",
    "bob_fido = herb_fido\n",
    "N =1\n"
   ]
  },
  {
   "cell_type": "code",
   "execution_count": 4,
   "metadata": {},
   "outputs": [
    {
     "data": {
      "text/plain": [
       "<Person: 4>"
      ]
     },
     "execution_count": 4,
     "metadata": {},
     "output_type": "execute_result"
    }
   ],
   "source": [
    "Person.select().where(Person.name == 'Grandama L').get()"
   ]
  },
  {
   "cell_type": "code",
   "execution_count": 5,
   "metadata": {},
   "outputs": [
    {
     "data": {
      "text/plain": [
       "<Person: 4>"
      ]
     },
     "execution_count": 5,
     "metadata": {},
     "output_type": "execute_result"
    }
   ],
   "source": [
    "Person.get(Person.name == 'Grandama L')"
   ]
  }
 ],
 "metadata": {
  "kernelspec": {
   "display_name": "Python 3.8.0 64-bit",
   "language": "python",
   "name": "python3"
  },
  "language_info": {
   "codemirror_mode": {
    "name": "ipython",
    "version": 3
   },
   "file_extension": ".py",
   "mimetype": "text/x-python",
   "name": "python",
   "nbconvert_exporter": "python",
   "pygments_lexer": "ipython3",
   "version": "3.8.0"
  },
  "orig_nbformat": 4,
  "vscode": {
   "interpreter": {
    "hash": "9650cb4e16cdd4a8e8e2d128bf38d875813998db22a3c986335f89e0cb4d7bb2"
   }
  }
 },
 "nbformat": 4,
 "nbformat_minor": 2
}
