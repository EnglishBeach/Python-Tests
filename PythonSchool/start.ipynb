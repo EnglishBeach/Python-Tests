{
 "cells": [
  {
   "cell_type": "code",
   "execution_count": 20,
   "metadata": {},
   "outputs": [],
   "source": [
    "class Test:\n",
    "    def __init__(self,b,c) -> None:\n",
    "        self._a=1\n",
    "        self._b=b\n",
    "        self._c = c\n",
    "        \n",
    "    @property\n",
    "    def a(self):\n",
    "        return self._a\n",
    "    \n",
    "    @a.setter\n",
    "    def set_a(self,a):\n",
    "        self._a = a\n",
    "    \n",
    "    @a.getter\n",
    "    def get_a(self):\n",
    "        return f'Proper a = {self._a}'"
   ]
  },
  {
   "cell_type": "code",
   "execution_count": 17,
   "metadata": {},
   "outputs": [],
   "source": [
    "t= Test(20,99)"
   ]
  },
  {
   "cell_type": "code",
   "execution_count": 22,
   "metadata": {},
   "outputs": [],
   "source": [
    "t.set_a =88"
   ]
  },
  {
   "cell_type": "code",
   "execution_count": 53,
   "metadata": {},
   "outputs": [],
   "source": [
    "class Figure:\n",
    "\n",
    "    def __init__(self, side1, side2, side3, name=None) -> None:\n",
    "        self._side1 = side1\n",
    "        self._side2 = side2\n",
    "        self._side3 = side3\n",
    "        self._name = name\n",
    "\n",
    "    @property\n",
    "    def side1(self):\n",
    "        return self._side1\n",
    "\n",
    "    @property\n",
    "    def side2(self):\n",
    "        return self._side2\n",
    "\n",
    "    @property\n",
    "    def side3(self):\n",
    "        return self._side3\n",
    "\n",
    "    @property\n",
    "    def name(self):\n",
    "        return self._name\n",
    "\n",
    "    def set_side1(self, side1):\n",
    "        self._side1 = side1\n",
    "\n",
    "    def set_side2(self, side2):\n",
    "        self._side2 = side2\n",
    "\n",
    "    def set_side3(self, side3):\n",
    "        self._side3 = side3\n",
    "\n",
    "    def print_sides(self):\n",
    "        print('Sides:')\n",
    "        print('{0:_>10.2f}\\n{1:_>10.2f}\\n{2:_>10.2f}\\n'.format(self._side1,self._side3,self._side3))\n",
    "\n",
    "\n",
    "class Triangle(Figure):\n",
    "\n",
    "    def eval_perimetr(self):\n",
    "        return sum([self.side1, self.side2, self.side3])\n",
    "\n",
    "    def eval_square(self):\n",
    "        p = self.eval_perimetr() / 2\n",
    "        a = (p - self.side1)\n",
    "        b = (p - self.side2)\n",
    "        c = (p - self.side3)\n",
    "        return (p * a * c * b)**(1 / 2)\n"
   ]
  },
  {
   "cell_type": "code",
   "execution_count": 54,
   "metadata": {},
   "outputs": [
    {
     "data": {
      "text/plain": [
       "12"
      ]
     },
     "execution_count": 54,
     "metadata": {},
     "output_type": "execute_result"
    }
   ],
   "source": [
    "test = Triangle(3,5,4)\n",
    "test.eval_perimetr()"
   ]
  },
  {
   "cell_type": "code",
   "execution_count": 55,
   "metadata": {},
   "outputs": [
    {
     "name": "stdout",
     "output_type": "stream",
     "text": [
      "Sides:\n",
      "______3.00\n",
      "______4.00\n",
      "______4.00\n",
      "\n"
     ]
    }
   ],
   "source": [
    "test.print_sides()"
   ]
  },
  {
   "cell_type": "code",
   "execution_count": null,
   "metadata": {},
   "outputs": [],
   "source": [
    "class Figure:\n",
    "\n",
    "    def __init__(self, side1, side2, side3) -> None:\n",
    "        self.side1 = side1\n",
    "        self.side2 = side2\n",
    "        self.side3 = side3\n",
    "\n",
    "\n",
    "class Triangle(Figure):\n",
    "\n",
    "    def eval_perimetr(self):\n",
    "        return self.side1 + self.side2 + self.side3\n",
    "\n",
    "    def eval_square(self):\n",
    "        p = self.eval_perimetr() / 2\n",
    "        a = (p - self.side1)\n",
    "        b = (p - self.side2)\n",
    "        c = (p - self.side3)\n",
    "        return (p * a * c * b)**(1 / 2)\n"
   ]
  }
 ],
 "metadata": {
  "kernelspec": {
   "display_name": "Python 3.8.0 64-bit",
   "language": "python",
   "name": "python3"
  },
  "language_info": {
   "codemirror_mode": {
    "name": "ipython",
    "version": 3
   },
   "file_extension": ".py",
   "mimetype": "text/x-python",
   "name": "python",
   "nbconvert_exporter": "python",
   "pygments_lexer": "ipython3",
   "version": "3.8.0"
  },
  "orig_nbformat": 4,
  "vscode": {
   "interpreter": {
    "hash": "54f20e7e3e360f2961354ec07feee89ca859933b5816359cc03524f014ca106e"
   }
  }
 },
 "nbformat": 4,
 "nbformat_minor": 2
}
