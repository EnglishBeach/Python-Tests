{
 "cells": [
  {
   "cell_type": "code",
   "execution_count": null,
   "metadata": {},
   "outputs": [],
   "source": [
    "class Test:\n",
    "    def __init__(self,b,c) -> None:\n",
    "        self._a=1\n",
    "        self._b=b\n",
    "        self._c = c\n",
    "        \n",
    "    @property\n",
    "    def a(self):\n",
    "        return self._a\n",
    "    \n",
    "    @a.setter\n",
    "    def set_a(self,a):\n",
    "        self._a = a\n",
    "    \n",
    "    @a.getter\n",
    "    def get_a(self):\n",
    "        return f'Proper a = {self._a}'"
   ]
  },
  {
   "cell_type": "code",
   "execution_count": null,
   "metadata": {},
   "outputs": [],
   "source": [
    "t= Test(20,99)\n",
    "t.set_a =88"
   ]
  },
  {
   "cell_type": "markdown",
   "metadata": {},
   "source": [
    "# Classes"
   ]
  },
  {
   "cell_type": "code",
   "execution_count": null,
   "metadata": {},
   "outputs": [],
   "source": [
    "class Figure:\n",
    "\n",
    "    def __init__(self, side1, side2, side3, name=None) -> None:\n",
    "        self._side1 = side1\n",
    "        self._side2 = side2\n",
    "        self._side3 = side3\n",
    "        self._name = name\n",
    "\n",
    "    @property\n",
    "    def side1(self):\n",
    "        return self._side1\n",
    "\n",
    "    @property\n",
    "    def side2(self):\n",
    "        return self._side2\n",
    "\n",
    "    @property\n",
    "    def side3(self):\n",
    "        return self._side3\n",
    "\n",
    "    @property\n",
    "    def name(self):\n",
    "        return self._name\n",
    "\n",
    "    def set_side1(self, side1):\n",
    "        self._side1 = side1\n",
    "\n",
    "    def set_side2(self, side2):\n",
    "        self._side2 = side2\n",
    "\n",
    "    def set_side3(self, side3):\n",
    "        self._side3 = side3\n",
    "\n",
    "    def print_sides(self):\n",
    "        print('Sides:')\n",
    "        print('{0:_>10.2f}\\n{1:_>10.2f}\\n{2:_>10.2f}\\n'.format(self._side1,self._side3,self._side3))\n",
    "\n",
    "\n",
    "class Triangle(Figure):\n",
    "\n",
    "    def eval_perimetr(self):\n",
    "        return sum([self.side1, self.side2, self.side3])\n",
    "\n",
    "    def eval_square(self):\n",
    "        p = self.eval_perimetr() / 2\n",
    "        a = (p - self.side1)\n",
    "        b = (p - self.side2)\n",
    "        c = (p - self.side3)\n",
    "        return (p * a * c * b)**(1 / 2)\n"
   ]
  },
  {
   "cell_type": "code",
   "execution_count": null,
   "metadata": {},
   "outputs": [],
   "source": [
    "test = Triangle(3,5,4)\n",
    "test.eval_perimetr()\n",
    "test.print_sides()"
   ]
  },
  {
   "cell_type": "code",
   "execution_count": null,
   "metadata": {},
   "outputs": [],
   "source": [
    "class Figure:\n",
    "\n",
    "    def __init__(self, side1, side2, side3) -> None:\n",
    "        self.side1 = side1\n",
    "        self.side2 = side2\n",
    "        self.side3 = side3\n",
    "\n",
    "\n",
    "class Triangle(Figure):\n",
    "\n",
    "    def eval_perimetr(self):\n",
    "        return self.side1 + self.side2 + self.side3\n",
    "\n",
    "    def eval_square(self):\n",
    "        p = self.eval_perimetr() / 2\n",
    "        a = (p - self.side1)\n",
    "        b = (p - self.side2)\n",
    "        c = (p - self.side3)\n",
    "        return (p * a * c * b)**(1 / 2)\n"
   ]
  },
  {
   "cell_type": "markdown",
   "metadata": {},
   "source": [
    "# Pandas"
   ]
  },
  {
   "cell_type": "code",
   "execution_count": 1,
   "metadata": {},
   "outputs": [
    {
     "data": {
      "text/plain": [
       "Index(['date', 'state', 'fips', 'cases', 'deaths'], dtype='object')"
      ]
     },
     "execution_count": 1,
     "metadata": {},
     "output_type": "execute_result"
    }
   ],
   "source": [
    "import pandas as pd\n",
    "URL = \"https://raw.githubusercontent.com/nytimes/covid-19-data/master/us-states.csv\"\n",
    "df = pd.read_csv(URL)\n",
    "df.columns"
   ]
  },
  {
   "cell_type": "code",
   "execution_count": 30,
   "metadata": {},
   "outputs": [],
   "source": [
    "# yapf: disable\n",
    "def show(dataframe,to_console=True):\n",
    "    if not to_console: \n",
    "        styler = (\n",
    "            dataframe\n",
    "            .style\n",
    "            .format(lambda x: '{0:,}'.format(x).replace(',',' '))\n",
    "        )\n",
    "        return styler\n",
    "    print(dataframe)\n",
    "    \n",
    "    \n",
    "df2 = (df\n",
    "    .loc[df['date']=='2022-12-13']\n",
    "    .groupby(['state'])\n",
    "    [['cases','deaths']].sum()\n",
    "    .sort_values('deaths',ascending=False)\n",
    "    )\n",
    "df3 = df2.loc[df2['deaths']<1000]\n",
    "df4 = df2.loc[(df2['deaths']%2==1) & (df2['cases']%2==0)]\n",
    "\n",
    "\n",
    "# df.drop(columns=['county','date']).loc[df['deaths']>100]\n",
    "# df.groupby(['state'],as_index=False)[['state','cases','deaths']].sum()"
   ]
  },
  {
   "cell_type": "code",
   "execution_count": null,
   "metadata": {},
   "outputs": [],
   "source": [
    "# URL = \"https://web.stanford.edu/class/archive/cs/cs109/cs109.1166/stuff/titanic.csv\""
   ]
  }
 ],
 "metadata": {
  "kernelspec": {
   "display_name": "Python 3.8.0 64-bit",
   "language": "python",
   "name": "python3"
  },
  "language_info": {
   "codemirror_mode": {
    "name": "ipython",
    "version": 3
   },
   "file_extension": ".py",
   "mimetype": "text/x-python",
   "name": "python",
   "nbconvert_exporter": "python",
   "pygments_lexer": "ipython3",
   "version": "3.8.0"
  },
  "orig_nbformat": 4,
  "vscode": {
   "interpreter": {
    "hash": "9650cb4e16cdd4a8e8e2d128bf38d875813998db22a3c986335f89e0cb4d7bb2"
   }
  }
 },
 "nbformat": 4,
 "nbformat_minor": 2
}
