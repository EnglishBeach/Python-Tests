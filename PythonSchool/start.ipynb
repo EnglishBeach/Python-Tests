{
 "cells": [
  {
   "cell_type": "code",
   "execution_count": null,
   "metadata": {},
   "outputs": [],
   "source": [
    "class Test:\n",
    "\n",
    "    def __init__(self, b, c) -> None:\n",
    "        self._a = 1\n",
    "        self._b = b\n",
    "        self._c = c\n",
    "\n",
    "    @property\n",
    "    def a(self):\n",
    "        return self._a\n",
    "\n",
    "    @a.setter\n",
    "    def set_a(self, a):\n",
    "        self._a = a\n",
    "\n",
    "    @a.getter\n",
    "    def get_a(self):\n",
    "        return f'Proper a = {self._a}'"
   ]
  },
  {
   "cell_type": "code",
   "execution_count": null,
   "metadata": {},
   "outputs": [],
   "source": [
    "t = Test(20, 99)\n",
    "t.set_a = 88\n"
   ]
  },
  {
   "cell_type": "markdown",
   "metadata": {},
   "source": [
    "# Classes"
   ]
  },
  {
   "cell_type": "code",
   "execution_count": null,
   "metadata": {},
   "outputs": [],
   "source": [
    "class Figure:\n",
    "\n",
    "    def __init__(self, side1, side2, side3, name=None):\n",
    "        self._side1 = side1\n",
    "        self._side2 = side2\n",
    "        self._side3 = side3\n",
    "        self._name = name\n",
    "\n",
    "    @property\n",
    "    def side1(self):\n",
    "        return self._side1\n",
    "\n",
    "    @property\n",
    "    def side2(self):\n",
    "        return self._side2\n",
    "\n",
    "    @property\n",
    "    def side3(self):\n",
    "        return self._side3\n",
    "\n",
    "    @property\n",
    "    def name(self):\n",
    "        return self._name\n",
    "\n",
    "    @side1.setter\n",
    "    def set_side1(self, side1):\n",
    "        self._side1 = side1\n",
    "\n",
    "    @side2.setter\n",
    "    def set_side2(self, side2):\n",
    "        self._side2 = side2\n",
    "\n",
    "    @side3.setter\n",
    "    def set_side3(self, side3):\n",
    "        self._side3 = side3\n",
    "\n",
    "    def print_sides(self):\n",
    "        print('Sides:')\n",
    "        print('{0:_>10.2f}\\n{1:_>10.2f}\\n{2:_>10.2f}\\n'.format(\n",
    "            self._side1, self._side3, self._side3))\n",
    "\n",
    "\n",
    "class Triangle(Figure):\n",
    "\n",
    "    def eval_perimetr(self):\n",
    "        return sum([self.side1, self.side2, self.side3])\n",
    "\n",
    "    def eval_square(self):\n",
    "        p = self.eval_perimetr() / 2\n",
    "        a = (p - self.side1)\n",
    "        b = (p - self.side2)\n",
    "        c = (p - self.side3)\n",
    "        return (p * a * c * b)**(1 / 2)\n"
   ]
  },
  {
   "cell_type": "code",
   "execution_count": null,
   "metadata": {},
   "outputs": [],
   "source": [
    "test = Triangle(3, 5, 4)\n",
    "test.eval_perimetr()\n",
    "test.print_sides()"
   ]
  },
  {
   "cell_type": "code",
   "execution_count": null,
   "metadata": {},
   "outputs": [],
   "source": [
    "test.set_side1 = 2\n"
   ]
  },
  {
   "cell_type": "code",
   "execution_count": null,
   "metadata": {},
   "outputs": [],
   "source": [
    "test.print_sides()"
   ]
  },
  {
   "cell_type": "code",
   "execution_count": null,
   "metadata": {},
   "outputs": [],
   "source": [
    "class Figure:\n",
    "\n",
    "    def __init__(self, side1, side2, side3) -> None:\n",
    "        self.side1 = side1\n",
    "        self.side2 = side2\n",
    "        self.side3 = side3\n",
    "\n",
    "\n",
    "class Triangle(Figure):\n",
    "\n",
    "    def eval_perimetr(self):\n",
    "        return self.side1 + self.side2 + self.side3\n",
    "\n",
    "    def eval_square(self):\n",
    "        p = self.eval_perimetr() / 2\n",
    "        a = (p - self.side1)\n",
    "        b = (p - self.side2)\n",
    "        c = (p - self.side3)\n",
    "        return (p * a * c * b)**(1 / 2)\n"
   ]
  },
  {
   "cell_type": "markdown",
   "metadata": {},
   "source": [
    "# Pandas"
   ]
  },
  {
   "cell_type": "code",
   "execution_count": 1,
   "metadata": {},
   "outputs": [],
   "source": [
    "import pandas as pd\n",
    "import re"
   ]
  },
  {
   "cell_type": "code",
   "execution_count": 2,
   "metadata": {},
   "outputs": [
    {
     "data": {
      "text/html": [
       "<div>\n",
       "<style scoped>\n",
       "    .dataframe tbody tr th:only-of-type {\n",
       "        vertical-align: middle;\n",
       "    }\n",
       "\n",
       "    .dataframe tbody tr th {\n",
       "        vertical-align: top;\n",
       "    }\n",
       "\n",
       "    .dataframe thead th {\n",
       "        text-align: right;\n",
       "    }\n",
       "</style>\n",
       "<table border=\"1\" class=\"dataframe\">\n",
       "  <thead>\n",
       "    <tr style=\"text-align: right;\">\n",
       "      <th></th>\n",
       "      <th>Unnamed: 0</th>\n",
       "      <th>App</th>\n",
       "      <th>Category</th>\n",
       "      <th>Rating</th>\n",
       "      <th>Reviews</th>\n",
       "      <th>Size</th>\n",
       "      <th>Installs</th>\n",
       "      <th>Type</th>\n",
       "      <th>Price</th>\n",
       "      <th>Content Rating</th>\n",
       "      <th>Genres</th>\n",
       "      <th>Last Updated</th>\n",
       "      <th>Current Ver</th>\n",
       "      <th>Android Ver</th>\n",
       "    </tr>\n",
       "  </thead>\n",
       "  <tbody>\n",
       "    <tr>\n",
       "      <th>0</th>\n",
       "      <td>0</td>\n",
       "      <td>Photo Editor &amp; Candy Camera &amp; Grid &amp; ScrapBook</td>\n",
       "      <td>ART_AND_DESIGN</td>\n",
       "      <td>4.1</td>\n",
       "      <td>159</td>\n",
       "      <td>19M</td>\n",
       "      <td>10,000+</td>\n",
       "      <td>Free</td>\n",
       "      <td>0</td>\n",
       "      <td>Everyone</td>\n",
       "      <td>Art &amp; Design</td>\n",
       "      <td>January 7, 2018</td>\n",
       "      <td>1.0.0</td>\n",
       "      <td>4.0.3 and up</td>\n",
       "    </tr>\n",
       "  </tbody>\n",
       "</table>\n",
       "</div>"
      ],
      "text/plain": [
       "   Unnamed: 0                                             App        Category  \\\n",
       "0           0  Photo Editor & Candy Camera & Grid & ScrapBook  ART_AND_DESIGN   \n",
       "\n",
       "   Rating  Reviews Size Installs  Type Price Content Rating        Genres  \\\n",
       "0     4.1      159  19M  10,000+  Free     0       Everyone  Art & Design   \n",
       "\n",
       "      Last Updated Current Ver   Android Ver  \n",
       "0  January 7, 2018       1.0.0  4.0.3 and up  "
      ]
     },
     "execution_count": 2,
     "metadata": {},
     "output_type": "execute_result"
    }
   ],
   "source": [
    "df = pd.read_csv('wild_data.csv')\n",
    "df.head(1)"
   ]
  },
  {
   "cell_type": "code",
   "execution_count": null,
   "metadata": {},
   "outputs": [],
   "source": [
    "def tr_Size(size: str):\n",
    "    reg = r'[-+]?(?:\\d+(?:\\.\\d*)?|\\.\\d+)(?:[eE][-+]?\\d+)?'\n",
    "    m = re.findall(reg + 'M', size)\n",
    "    k = re.findall(reg + 'K', size)\n",
    "    if len(m): return float(m[0][:-1])\n",
    "    elif len(k): return float(k[0][:-1]) / 1024\n",
    "    return 10.\n",
    "\n",
    "\n",
    "def tr_Installs(number: str):\n",
    "    return int(number.replace(',', '').replace('+', ''))\n",
    "\n",
    "\n",
    "def tr_Price(price: str):\n",
    "    return float(price.replace('$', '')) * 64\n",
    "\n",
    "\n",
    "def tr_Android_Ver(version):\n",
    "    version = str(version)\n",
    "    reg = r'[-+]?(?:\\d+(?:\\.\\d*)?|\\.\\d+)(?:[eE][-+]?\\d+)?'\n",
    "    array = re.findall(reg, version)\n",
    "    if len(array) == 1: return float(array[0])\n",
    "    elif len(array) == 2: return float(array[0]) + float(array[1]) * 0.1\n",
    "    return 0\n",
    "\n",
    "\n",
    "def tr_Content_Rating(rating):\n",
    "    rate_list = [\n",
    "        ['Everyone 10+', '10'],\n",
    "        ['Everyone', '0'],\n",
    "        ['Teen', '16'],\n",
    "        ['Mature 17+', '17'],\n",
    "        ['Adults only 18+', '18'],\n",
    "        ['Unrated', '0'],\n",
    "    ]\n",
    "    for rule in rate_list:\n",
    "        rating = rating.replace(*rule)\n",
    "    if rating == 'NaN': return 0\n",
    "    return int(rating)\n",
    "\n",
    "\n",
    "df['Size'] = df['Size'].apply(tr_Size)\n",
    "df['Installs'] = df['Installs'].apply(tr_Installs)\n",
    "df['Last Updated'] = pd.to_datetime(df['Last Updated'])\n",
    "df['Price'] = df['Price'].apply(tr_Price)\n",
    "df['Android Ver'] = df['Android Ver'].apply(tr_Android_Ver)\n",
    "df['Current Ver'] = df['Current Ver'].apply(tr_Android_Ver)\n",
    "df['Content Rating'] = df['Content Rating'].apply(tr_Content_Rating)\n",
    "df.loc[df['Rating'].isna()]=0\n",
    "\n",
    "df = df.rename(columns={\n",
    "    # 'Size': 'Size (M)',\n",
    "    'Unnamed: 0': 'ID like',\n",
    "    # 'Price': 'Price (RUB)',\n",
    "    'Content Rating':'Min rating',\n",
    "    'Current Ver':'App Ver',\n",
    "})\n",
    "df = df.drop(columns='Type') # Not need\n",
    "df.head(1)"
   ]
  },
  {
   "cell_type": "code",
   "execution_count": null,
   "metadata": {},
   "outputs": [],
   "source": [
    "df.isnull().sum()"
   ]
  },
  {
   "cell_type": "code",
   "execution_count": null,
   "metadata": {},
   "outputs": [],
   "source": [
    "# yapf: disable\n",
    "\n",
    "df4 = (df\n",
    "    .loc[df['Rating']>4.9]\n",
    "    )\n",
    "df5 = (df\n",
    "        .loc[df['Category']=='GAME']\n",
    "        .loc[(df['Rating']>4.9) &(df['Price']==0)]\n",
    "        .drop(columns=['Price','Category'])\n",
    "    )"
   ]
  },
  {
   "cell_type": "code",
   "execution_count": null,
   "metadata": {},
   "outputs": [],
   "source": [
    "df"
   ]
  },
  {
   "cell_type": "code",
   "execution_count": null,
   "metadata": {},
   "outputs": [],
   "source": [
    "df['Rating'] "
   ]
  },
  {
   "cell_type": "code",
   "execution_count": 18,
   "metadata": {},
   "outputs": [
    {
     "data": {
      "text/html": [
       "<div>\n",
       "<style scoped>\n",
       "    .dataframe tbody tr th:only-of-type {\n",
       "        vertical-align: middle;\n",
       "    }\n",
       "\n",
       "    .dataframe tbody tr th {\n",
       "        vertical-align: top;\n",
       "    }\n",
       "\n",
       "    .dataframe thead th {\n",
       "        text-align: right;\n",
       "    }\n",
       "</style>\n",
       "<table border=\"1\" class=\"dataframe\">\n",
       "  <thead>\n",
       "    <tr style=\"text-align: right;\">\n",
       "      <th></th>\n",
       "      <th>Unnamed: 0</th>\n",
       "      <th>App</th>\n",
       "      <th>Category</th>\n",
       "      <th>Rating</th>\n",
       "      <th>Reviews</th>\n",
       "      <th>Size</th>\n",
       "      <th>Installs</th>\n",
       "      <th>Type</th>\n",
       "      <th>Price</th>\n",
       "      <th>Content Rating</th>\n",
       "      <th>Genres</th>\n",
       "      <th>Last Updated</th>\n",
       "      <th>Current Ver</th>\n",
       "      <th>Android Ver</th>\n",
       "    </tr>\n",
       "  </thead>\n",
       "  <tbody>\n",
       "    <tr>\n",
       "      <th>0</th>\n",
       "      <td>0</td>\n",
       "      <td>Photo Editor &amp; Candy Camera &amp; Grid &amp; ScrapBook</td>\n",
       "      <td>ART_AND_DESIGN</td>\n",
       "      <td>4.1</td>\n",
       "      <td>159</td>\n",
       "      <td>19M</td>\n",
       "      <td>10,000+</td>\n",
       "      <td>Free</td>\n",
       "      <td>0</td>\n",
       "      <td>Everyone</td>\n",
       "      <td>Art &amp; Design</td>\n",
       "      <td>January 7, 2018</td>\n",
       "      <td>1.0.0</td>\n",
       "      <td>4.0.3 and up</td>\n",
       "    </tr>\n",
       "  </tbody>\n",
       "</table>\n",
       "</div>"
      ],
      "text/plain": [
       "   Unnamed: 0                                             App        Category  \\\n",
       "0           0  Photo Editor & Candy Camera & Grid & ScrapBook  ART_AND_DESIGN   \n",
       "\n",
       "   Rating  Reviews Size Installs  Type Price Content Rating        Genres  \\\n",
       "0     4.1      159  19M  10,000+  Free     0       Everyone  Art & Design   \n",
       "\n",
       "      Last Updated Current Ver   Android Ver  \n",
       "0  January 7, 2018       1.0.0  4.0.3 and up  "
      ]
     },
     "execution_count": 18,
     "metadata": {},
     "output_type": "execute_result"
    }
   ],
   "source": [
    "import pandas as pd\n",
    "df = pd.read_csv('wild_data.csv')\n",
    "df.head(1)"
   ]
  },
  {
   "cell_type": "code",
   "execution_count": 19,
   "metadata": {},
   "outputs": [],
   "source": [
    "def size_f(size: str):\n",
    "    if size == 'Varies with device': return 0.\n",
    "    elif size.find('M') >= 0: return float(size.replace('M', ''))*1024\n",
    "    elif size.find('K') >= 0: return float(size.replace('K', ''))\n",
    "\n",
    "def tr_Content_Rating(rating):\n",
    "    rating =rating.replace('Everyone 10+','10').replace('Everyone','0').replace('Teen','16').replace('Mature 17+','17').replace('Adults only 18+', '18').replace('Unrated','0')\n",
    "    \n",
    "    if rating == 'NaN': return 0\n",
    "    return int(rating)\n",
    "\n",
    "df['Size'] = df['Size'].apply(size_f)\n",
    "df['Installs'] = df['Installs'].apply(\n",
    "    lambda x: int(x.replace(',', '').replace('+', ''))\n",
    "    )\n",
    "df['Last Updated'] = pd.to_datetime(df['Last Updated'])\n",
    "df['Price'] = df['Price'].apply(lambda x: float(x.replace('$', '')))\n",
    "df['Content Rating'] = df['Content Rating'].apply(tr_Content_Rating)\n",
    "df.loc[df['Rating'].isna()]=0"
   ]
  },
  {
   "cell_type": "code",
   "execution_count": 20,
   "metadata": {},
   "outputs": [],
   "source": [
    "df.head(1)\n",
    "\n",
    "df4 = df.loc[df['Rating']>4.9]\n",
    "df5 =df.loc[df['Category']=='GAME'].loc[(df['Rating']>4.9) &(df['Price']==0)].drop(columns=['Price','Category'])"
   ]
  }
 ],
 "metadata": {
  "kernelspec": {
   "display_name": "Python 3.8.0 64-bit",
   "language": "python",
   "name": "python3"
  },
  "language_info": {
   "codemirror_mode": {
    "name": "ipython",
    "version": 3
   },
   "file_extension": ".py",
   "mimetype": "text/x-python",
   "name": "python",
   "nbconvert_exporter": "python",
   "pygments_lexer": "ipython3",
   "version": "3.8.0"
  },
  "orig_nbformat": 4,
  "vscode": {
   "interpreter": {
    "hash": "9650cb4e16cdd4a8e8e2d128bf38d875813998db22a3c986335f89e0cb4d7bb2"
   }
  }
 },
 "nbformat": 4,
 "nbformat_minor": 2
}
